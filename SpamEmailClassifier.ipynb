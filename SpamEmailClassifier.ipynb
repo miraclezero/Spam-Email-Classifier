{
 "cells": [
  {
   "cell_type": "markdown",
   "metadata": {},
   "source": [
    "# CS 418 Final Project - Spam/Non Spam Email Classification"
   ]
  },
  {
   "cell_type": "code",
   "execution_count": 1,
   "metadata": {},
   "outputs": [],
   "source": [
    "import pandas as pd\n",
    "import numpy as np\n",
    "import math as m\n",
    "import matplotlib.pyplot as plt\n",
    "import seaborn as sns\n",
    "import scipy.stats as st\n",
    "from sklearn.model_selection import train_test_split, KFold, cross_val_score\n",
    "from sklearn.preprocessing import StandardScaler\n",
    "from sklearn import metrics\n",
    "from sklearn.metrics import mean_squared_error\n",
    "from sklearn.tree import DecisionTreeClassifier\n",
    "from sklearn.neighbors import KNeighborsClassifier \n",
    "from sklearn.naive_bayes import GaussianNB\n",
    "from sklearn.svm import SVC\n",
    "from scipy.cluster.hierarchy import linkage, fcluster,dendrogram\n",
    "from sklearn.cluster import KMeans, DBSCAN\n",
    "from sklearn.decomposition import PCA"
   ]
  },
  {
   "cell_type": "markdown",
   "metadata": {},
   "source": [
    "# Dataset Collection"
   ]
  },
  {
   "cell_type": "code",
   "execution_count": 2,
   "metadata": {},
   "outputs": [
    {
     "data": {
      "text/html": [
       "<div>\n",
       "<style scoped>\n",
       "    .dataframe tbody tr th:only-of-type {\n",
       "        vertical-align: middle;\n",
       "    }\n",
       "\n",
       "    .dataframe tbody tr th {\n",
       "        vertical-align: top;\n",
       "    }\n",
       "\n",
       "    .dataframe thead th {\n",
       "        text-align: right;\n",
       "    }\n",
       "</style>\n",
       "<table border=\"1\" class=\"dataframe\">\n",
       "  <thead>\n",
       "    <tr style=\"text-align: right;\">\n",
       "      <th></th>\n",
       "      <th>word_freq_make</th>\n",
       "      <th>word_freq_address</th>\n",
       "      <th>word_freq_all</th>\n",
       "      <th>word_freq_3d</th>\n",
       "      <th>word_freq_our</th>\n",
       "      <th>word_freq_over</th>\n",
       "      <th>word_freq_remove</th>\n",
       "      <th>word_freq_internet</th>\n",
       "      <th>word_freq_order</th>\n",
       "      <th>word_freq_mail</th>\n",
       "      <th>...</th>\n",
       "      <th>char_freq_%3B</th>\n",
       "      <th>char_freq_%28</th>\n",
       "      <th>char_freq_%5B</th>\n",
       "      <th>char_freq_%21</th>\n",
       "      <th>char_freq_%24</th>\n",
       "      <th>char_freq_%23</th>\n",
       "      <th>capital_run_length_average</th>\n",
       "      <th>capital_run_length_longest</th>\n",
       "      <th>capital_run_length_total</th>\n",
       "      <th>class</th>\n",
       "    </tr>\n",
       "  </thead>\n",
       "  <tbody>\n",
       "    <tr>\n",
       "      <th>0</th>\n",
       "      <td>0.00</td>\n",
       "      <td>0.64</td>\n",
       "      <td>0.64</td>\n",
       "      <td>0.0</td>\n",
       "      <td>0.32</td>\n",
       "      <td>0.00</td>\n",
       "      <td>0.00</td>\n",
       "      <td>0.00</td>\n",
       "      <td>0.00</td>\n",
       "      <td>0.00</td>\n",
       "      <td>...</td>\n",
       "      <td>0.00</td>\n",
       "      <td>0.000</td>\n",
       "      <td>0.0</td>\n",
       "      <td>0.778</td>\n",
       "      <td>0.000</td>\n",
       "      <td>0.000</td>\n",
       "      <td>3.756</td>\n",
       "      <td>61</td>\n",
       "      <td>278</td>\n",
       "      <td>1</td>\n",
       "    </tr>\n",
       "    <tr>\n",
       "      <th>1</th>\n",
       "      <td>0.21</td>\n",
       "      <td>0.28</td>\n",
       "      <td>0.50</td>\n",
       "      <td>0.0</td>\n",
       "      <td>0.14</td>\n",
       "      <td>0.28</td>\n",
       "      <td>0.21</td>\n",
       "      <td>0.07</td>\n",
       "      <td>0.00</td>\n",
       "      <td>0.94</td>\n",
       "      <td>...</td>\n",
       "      <td>0.00</td>\n",
       "      <td>0.132</td>\n",
       "      <td>0.0</td>\n",
       "      <td>0.372</td>\n",
       "      <td>0.180</td>\n",
       "      <td>0.048</td>\n",
       "      <td>5.114</td>\n",
       "      <td>101</td>\n",
       "      <td>1028</td>\n",
       "      <td>1</td>\n",
       "    </tr>\n",
       "    <tr>\n",
       "      <th>2</th>\n",
       "      <td>0.06</td>\n",
       "      <td>0.00</td>\n",
       "      <td>0.71</td>\n",
       "      <td>0.0</td>\n",
       "      <td>1.23</td>\n",
       "      <td>0.19</td>\n",
       "      <td>0.19</td>\n",
       "      <td>0.12</td>\n",
       "      <td>0.64</td>\n",
       "      <td>0.25</td>\n",
       "      <td>...</td>\n",
       "      <td>0.01</td>\n",
       "      <td>0.143</td>\n",
       "      <td>0.0</td>\n",
       "      <td>0.276</td>\n",
       "      <td>0.184</td>\n",
       "      <td>0.010</td>\n",
       "      <td>9.821</td>\n",
       "      <td>485</td>\n",
       "      <td>2259</td>\n",
       "      <td>1</td>\n",
       "    </tr>\n",
       "    <tr>\n",
       "      <th>3</th>\n",
       "      <td>0.00</td>\n",
       "      <td>0.00</td>\n",
       "      <td>0.00</td>\n",
       "      <td>0.0</td>\n",
       "      <td>0.63</td>\n",
       "      <td>0.00</td>\n",
       "      <td>0.31</td>\n",
       "      <td>0.63</td>\n",
       "      <td>0.31</td>\n",
       "      <td>0.63</td>\n",
       "      <td>...</td>\n",
       "      <td>0.00</td>\n",
       "      <td>0.137</td>\n",
       "      <td>0.0</td>\n",
       "      <td>0.137</td>\n",
       "      <td>0.000</td>\n",
       "      <td>0.000</td>\n",
       "      <td>3.537</td>\n",
       "      <td>40</td>\n",
       "      <td>191</td>\n",
       "      <td>1</td>\n",
       "    </tr>\n",
       "    <tr>\n",
       "      <th>4</th>\n",
       "      <td>0.00</td>\n",
       "      <td>0.00</td>\n",
       "      <td>0.00</td>\n",
       "      <td>0.0</td>\n",
       "      <td>0.63</td>\n",
       "      <td>0.00</td>\n",
       "      <td>0.31</td>\n",
       "      <td>0.63</td>\n",
       "      <td>0.31</td>\n",
       "      <td>0.63</td>\n",
       "      <td>...</td>\n",
       "      <td>0.00</td>\n",
       "      <td>0.135</td>\n",
       "      <td>0.0</td>\n",
       "      <td>0.135</td>\n",
       "      <td>0.000</td>\n",
       "      <td>0.000</td>\n",
       "      <td>3.537</td>\n",
       "      <td>40</td>\n",
       "      <td>191</td>\n",
       "      <td>1</td>\n",
       "    </tr>\n",
       "  </tbody>\n",
       "</table>\n",
       "<p>5 rows × 58 columns</p>\n",
       "</div>"
      ],
      "text/plain": [
       "   word_freq_make  word_freq_address  word_freq_all  word_freq_3d  \\\n",
       "0            0.00               0.64           0.64           0.0   \n",
       "1            0.21               0.28           0.50           0.0   \n",
       "2            0.06               0.00           0.71           0.0   \n",
       "3            0.00               0.00           0.00           0.0   \n",
       "4            0.00               0.00           0.00           0.0   \n",
       "\n",
       "   word_freq_our  word_freq_over  word_freq_remove  word_freq_internet  \\\n",
       "0           0.32            0.00              0.00                0.00   \n",
       "1           0.14            0.28              0.21                0.07   \n",
       "2           1.23            0.19              0.19                0.12   \n",
       "3           0.63            0.00              0.31                0.63   \n",
       "4           0.63            0.00              0.31                0.63   \n",
       "\n",
       "   word_freq_order  word_freq_mail  ...  char_freq_%3B  char_freq_%28  \\\n",
       "0             0.00            0.00  ...           0.00          0.000   \n",
       "1             0.00            0.94  ...           0.00          0.132   \n",
       "2             0.64            0.25  ...           0.01          0.143   \n",
       "3             0.31            0.63  ...           0.00          0.137   \n",
       "4             0.31            0.63  ...           0.00          0.135   \n",
       "\n",
       "   char_freq_%5B  char_freq_%21  char_freq_%24  char_freq_%23  \\\n",
       "0            0.0          0.778          0.000          0.000   \n",
       "1            0.0          0.372          0.180          0.048   \n",
       "2            0.0          0.276          0.184          0.010   \n",
       "3            0.0          0.137          0.000          0.000   \n",
       "4            0.0          0.135          0.000          0.000   \n",
       "\n",
       "   capital_run_length_average  capital_run_length_longest  \\\n",
       "0                       3.756                          61   \n",
       "1                       5.114                         101   \n",
       "2                       9.821                         485   \n",
       "3                       3.537                          40   \n",
       "4                       3.537                          40   \n",
       "\n",
       "   capital_run_length_total  class  \n",
       "0                       278      1  \n",
       "1                      1028      1  \n",
       "2                      2259      1  \n",
       "3                       191      1  \n",
       "4                       191      1  \n",
       "\n",
       "[5 rows x 58 columns]"
      ]
     },
     "execution_count": 2,
     "metadata": {},
     "output_type": "execute_result"
    }
   ],
   "source": [
    "#import dataset\n",
    "data = pd.read_csv(\"spambase.csv\")\n",
    "data.head()\n",
    "#data.count()"
   ]
  },
  {
   "cell_type": "code",
   "execution_count": 3,
   "metadata": {},
   "outputs": [
    {
     "data": {
      "text/plain": [
       "Index(['word_freq_make', 'word_freq_address', 'word_freq_all', 'word_freq_3d',\n",
       "       'word_freq_our', 'word_freq_over', 'word_freq_remove',\n",
       "       'word_freq_internet', 'word_freq_order', 'word_freq_mail',\n",
       "       'word_freq_receive', 'word_freq_will', 'word_freq_people',\n",
       "       'word_freq_report', 'word_freq_addresses', 'word_freq_free',\n",
       "       'word_freq_business', 'word_freq_email', 'word_freq_you',\n",
       "       'word_freq_credit', 'word_freq_your', 'word_freq_font', 'word_freq_000',\n",
       "       'word_freq_money', 'word_freq_hp', 'word_freq_hpl', 'word_freq_george',\n",
       "       'word_freq_650', 'word_freq_lab', 'word_freq_labs', 'word_freq_telnet',\n",
       "       'word_freq_857', 'word_freq_data', 'word_freq_415', 'word_freq_85',\n",
       "       'word_freq_technology', 'word_freq_1999', 'word_freq_parts',\n",
       "       'word_freq_pm', 'word_freq_direct', 'word_freq_cs', 'word_freq_meeting',\n",
       "       'word_freq_original', 'word_freq_project', 'word_freq_re',\n",
       "       'word_freq_edu', 'word_freq_table', 'word_freq_conference',\n",
       "       'char_freq_%3B', 'char_freq_%28', 'char_freq_%5B', 'char_freq_%21',\n",
       "       'char_freq_%24', 'char_freq_%23', 'capital_run_length_average',\n",
       "       'capital_run_length_longest', 'capital_run_length_total', 'class'],\n",
       "      dtype='object')"
      ]
     },
     "execution_count": 3,
     "metadata": {},
     "output_type": "execute_result"
    }
   ],
   "source": [
    "data.columns"
   ]
  },
  {
   "cell_type": "code",
   "execution_count": 4,
   "metadata": {},
   "outputs": [
    {
     "data": {
      "text/plain": [
       "word_freq_make                float64\n",
       "word_freq_address             float64\n",
       "word_freq_all                 float64\n",
       "word_freq_3d                  float64\n",
       "word_freq_our                 float64\n",
       "word_freq_over                float64\n",
       "word_freq_remove              float64\n",
       "word_freq_internet            float64\n",
       "word_freq_order               float64\n",
       "word_freq_mail                float64\n",
       "word_freq_receive             float64\n",
       "word_freq_will                float64\n",
       "word_freq_people              float64\n",
       "word_freq_report              float64\n",
       "word_freq_addresses           float64\n",
       "word_freq_free                float64\n",
       "word_freq_business            float64\n",
       "word_freq_email               float64\n",
       "word_freq_you                 float64\n",
       "word_freq_credit              float64\n",
       "word_freq_your                float64\n",
       "word_freq_font                float64\n",
       "word_freq_000                 float64\n",
       "word_freq_money               float64\n",
       "word_freq_hp                  float64\n",
       "word_freq_hpl                 float64\n",
       "word_freq_george              float64\n",
       "word_freq_650                 float64\n",
       "word_freq_lab                 float64\n",
       "word_freq_labs                float64\n",
       "word_freq_telnet              float64\n",
       "word_freq_857                 float64\n",
       "word_freq_data                float64\n",
       "word_freq_415                 float64\n",
       "word_freq_85                  float64\n",
       "word_freq_technology          float64\n",
       "word_freq_1999                float64\n",
       "word_freq_parts               float64\n",
       "word_freq_pm                  float64\n",
       "word_freq_direct              float64\n",
       "word_freq_cs                  float64\n",
       "word_freq_meeting             float64\n",
       "word_freq_original            float64\n",
       "word_freq_project             float64\n",
       "word_freq_re                  float64\n",
       "word_freq_edu                 float64\n",
       "word_freq_table               float64\n",
       "word_freq_conference          float64\n",
       "char_freq_%3B                 float64\n",
       "char_freq_%28                 float64\n",
       "char_freq_%5B                 float64\n",
       "char_freq_%21                 float64\n",
       "char_freq_%24                 float64\n",
       "char_freq_%23                 float64\n",
       "capital_run_length_average    float64\n",
       "capital_run_length_longest      int64\n",
       "capital_run_length_total        int64\n",
       "class                           int64\n",
       "dtype: object"
      ]
     },
     "execution_count": 4,
     "metadata": {},
     "output_type": "execute_result"
    }
   ],
   "source": [
    "data.dtypes\n"
   ]
  },
  {
   "cell_type": "markdown",
   "metadata": {},
   "source": [
    "# Data Preparation"
   ]
  },
  {
   "cell_type": "code",
   "execution_count": 5,
   "metadata": {},
   "outputs": [
    {
     "data": {
      "text/plain": [
       "array([False, False, False, False, False, False, False, False, False,\n",
       "       False, False, False, False, False, False, False, False, False,\n",
       "       False, False, False, False, False, False, False, False, False,\n",
       "       False, False, False, False, False, False, False, False, False,\n",
       "       False, False, False, False, False, False, False, False, False,\n",
       "       False, False, False, False, False, False, False, False, False,\n",
       "       False, False, False, False])"
      ]
     },
     "execution_count": 5,
     "metadata": {},
     "output_type": "execute_result"
    }
   ],
   "source": [
    "data.columns.isnull()"
   ]
  },
  {
   "cell_type": "markdown",
   "metadata": {},
   "source": [
    "# Data Exploration"
   ]
  },
  {
   "cell_type": "code",
   "execution_count": 6,
   "metadata": {},
   "outputs": [
    {
     "data": {
      "text/html": [
       "<div>\n",
       "<style scoped>\n",
       "    .dataframe tbody tr th:only-of-type {\n",
       "        vertical-align: middle;\n",
       "    }\n",
       "\n",
       "    .dataframe tbody tr th {\n",
       "        vertical-align: top;\n",
       "    }\n",
       "\n",
       "    .dataframe thead th {\n",
       "        text-align: right;\n",
       "    }\n",
       "</style>\n",
       "<table border=\"1\" class=\"dataframe\">\n",
       "  <thead>\n",
       "    <tr style=\"text-align: right;\">\n",
       "      <th>class</th>\n",
       "      <th>0</th>\n",
       "      <th>1</th>\n",
       "    </tr>\n",
       "  </thead>\n",
       "  <tbody>\n",
       "    <tr>\n",
       "      <th>count</th>\n",
       "      <td>2788.000000</td>\n",
       "      <td>1813.000000</td>\n",
       "    </tr>\n",
       "    <tr>\n",
       "      <th>mean</th>\n",
       "      <td>0.073479</td>\n",
       "      <td>0.152339</td>\n",
       "    </tr>\n",
       "    <tr>\n",
       "      <th>std</th>\n",
       "      <td>0.297838</td>\n",
       "      <td>0.310645</td>\n",
       "    </tr>\n",
       "    <tr>\n",
       "      <th>min</th>\n",
       "      <td>0.000000</td>\n",
       "      <td>0.000000</td>\n",
       "    </tr>\n",
       "    <tr>\n",
       "      <th>25%</th>\n",
       "      <td>0.000000</td>\n",
       "      <td>0.000000</td>\n",
       "    </tr>\n",
       "    <tr>\n",
       "      <th>50%</th>\n",
       "      <td>0.000000</td>\n",
       "      <td>0.000000</td>\n",
       "    </tr>\n",
       "    <tr>\n",
       "      <th>75%</th>\n",
       "      <td>0.000000</td>\n",
       "      <td>0.170000</td>\n",
       "    </tr>\n",
       "    <tr>\n",
       "      <th>max</th>\n",
       "      <td>4.340000</td>\n",
       "      <td>4.540000</td>\n",
       "    </tr>\n",
       "  </tbody>\n",
       "</table>\n",
       "</div>"
      ],
      "text/plain": [
       "class            0            1\n",
       "count  2788.000000  1813.000000\n",
       "mean      0.073479     0.152339\n",
       "std       0.297838     0.310645\n",
       "min       0.000000     0.000000\n",
       "25%       0.000000     0.000000\n",
       "50%       0.000000     0.000000\n",
       "75%       0.000000     0.170000\n",
       "max       4.340000     4.540000"
      ]
     },
     "execution_count": 6,
     "metadata": {},
     "output_type": "execute_result"
    }
   ],
   "source": [
    "grouped_data = data.groupby(data['class'])\n",
    "grouped_data[data.columns[0]].describe(include='all').transpose()"
   ]
  },
  {
   "cell_type": "code",
   "execution_count": 7,
   "metadata": {},
   "outputs": [
    {
     "name": "stdout",
     "output_type": "stream",
     "text": [
      "index    0s       other      columns\n",
      "0      3548       1053     word_freq_make\n",
      "1      3703       898     word_freq_address\n",
      "2      2713       1888     word_freq_all\n",
      "3      4554       47     word_freq_3d\n",
      "4      2853       1748     word_freq_our\n",
      "5      3602       999     word_freq_over\n",
      "6      3794       807     word_freq_remove\n",
      "7      3777       824     word_freq_internet\n",
      "8      3828       773     word_freq_order\n",
      "9      3299       1302     word_freq_mail\n",
      "10      3892       709     word_freq_receive\n",
      "11      2276       2325     word_freq_will\n",
      "12      3749       852     word_freq_people\n",
      "13      4244       357     word_freq_report\n",
      "14      4265       336     word_freq_addresses\n",
      "15      3360       1241     word_freq_free\n",
      "16      3638       963     word_freq_business\n",
      "17      3563       1038     word_freq_email\n",
      "18      1374       3227     word_freq_you\n",
      "19      4177       424     word_freq_credit\n",
      "20      2178       2423     word_freq_your\n",
      "21      4484       117     word_freq_font\n",
      "22      3922       679     word_freq_000\n",
      "23      3866       735     word_freq_money\n",
      "24      3511       1090     word_freq_hp\n",
      "25      3790       811     word_freq_hpl\n",
      "26      3821       780     word_freq_george\n",
      "27      4138       463     word_freq_650\n",
      "28      4229       372     word_freq_lab\n",
      "29      4132       469     word_freq_labs\n",
      "30      4308       293     word_freq_telnet\n",
      "31      4396       205     word_freq_857\n",
      "32      4196       405     word_freq_data\n",
      "33      4386       215     word_freq_415\n",
      "34      4116       485     word_freq_85\n",
      "35      4002       599     word_freq_technology\n",
      "36      3772       829     word_freq_1999\n",
      "37      4518       83     word_freq_parts\n",
      "38      4217       384     word_freq_pm\n",
      "39      4148       453     word_freq_direct\n",
      "40      4453       148     word_freq_cs\n",
      "41      4260       341     word_freq_meeting\n",
      "42      4226       375     word_freq_original\n",
      "43      4274       327     word_freq_project\n",
      "44      3290       1311     word_freq_re\n",
      "45      4084       517     word_freq_edu\n",
      "46      4538       63     word_freq_table\n",
      "47      4398       203     word_freq_conference\n",
      "48      3811       790     char_freq_%3B\n",
      "49      1886       2715     char_freq_%28\n",
      "50      4072       529     char_freq_%5B\n",
      "51      2343       2258     char_freq_%21\n",
      "52      3201       1400     char_freq_%24\n",
      "53      3851       750     char_freq_%23\n",
      "54      0       4601     capital_run_length_average\n",
      "55      0       4601     capital_run_length_longest\n",
      "56      0       4601     capital_run_length_total\n",
      "57      2788       1813     class\n"
     ]
    }
   ],
   "source": [
    "print('index','  ','0s','     ','other', '     columns')\n",
    "for i in range(len(data.columns)):\n",
    "    c = data[data[data.columns[i]] == 0].shape[0]\n",
    "    print (i,'    ',c,'     ',4601-c,'   ', data.columns[i])"
   ]
  },
  {
   "cell_type": "code",
   "execution_count": 8,
   "metadata": {},
   "outputs": [
    {
     "ename": "NameError",
     "evalue": "name 'cap' is not defined",
     "output_type": "error",
     "traceback": [
      "\u001b[1;31m---------------------------------------------------------------------------\u001b[0m",
      "\u001b[1;31mNameError\u001b[0m                                 Traceback (most recent call last)",
      "\u001b[1;32m<ipython-input-8-ffb4b2ef36cb>\u001b[0m in \u001b[0;36m<module>\u001b[1;34m\u001b[0m\n\u001b[0;32m      4\u001b[0m     \u001b[0mprint\u001b[0m \u001b[1;33m(\u001b[0m\u001b[0mi\u001b[0m\u001b[1;33m,\u001b[0m\u001b[1;34m'    '\u001b[0m\u001b[1;33m,\u001b[0m\u001b[0mc\u001b[0m\u001b[1;33m,\u001b[0m\u001b[1;34m'     '\u001b[0m\u001b[1;33m,\u001b[0m\u001b[1;36m4601\u001b[0m\u001b[1;33m-\u001b[0m\u001b[0mc\u001b[0m\u001b[1;33m,\u001b[0m\u001b[1;34m'   '\u001b[0m\u001b[1;33m,\u001b[0m \u001b[0mdata\u001b[0m\u001b[1;33m.\u001b[0m\u001b[0mcolumns\u001b[0m\u001b[1;33m[\u001b[0m\u001b[0mi\u001b[0m\u001b[1;33m]\u001b[0m\u001b[1;33m)\u001b[0m\u001b[1;33m\u001b[0m\u001b[1;33m\u001b[0m\u001b[0m\n\u001b[0;32m      5\u001b[0m \u001b[1;32mwith\u001b[0m \u001b[0mopen\u001b[0m\u001b[1;33m(\u001b[0m\u001b[1;34m'output.txt'\u001b[0m\u001b[1;33m,\u001b[0m \u001b[1;34m'w'\u001b[0m\u001b[1;33m)\u001b[0m \u001b[1;32mas\u001b[0m \u001b[0mf\u001b[0m\u001b[1;33m:\u001b[0m\u001b[1;33m\u001b[0m\u001b[1;33m\u001b[0m\u001b[0m\n\u001b[1;32m----> 6\u001b[1;33m     \u001b[0mf\u001b[0m\u001b[1;33m.\u001b[0m\u001b[0mwrite\u001b[0m\u001b[1;33m(\u001b[0m\u001b[0mcap\u001b[0m\u001b[1;33m.\u001b[0m\u001b[0mstdout\u001b[0m\u001b[1;33m)\u001b[0m\u001b[1;33m\u001b[0m\u001b[1;33m\u001b[0m\u001b[0m\n\u001b[0m",
      "\u001b[1;31mNameError\u001b[0m: name 'cap' is not defined"
     ]
    }
   ],
   "source": [
    "%%capture cap --no-stderr\n",
    "print('index','  ','0s','     ','other', '     columns')\n",
    "for i in range(len(data.columns)):\n",
    "    c = data[data[data.columns[i]] == 0].shape[0]\n",
    "    print (i,'    ',c,'     ',4601-c,'   ', data.columns[i])\n",
    "with open('output.txt', 'w') as f:\n",
    "    f.write(cap.stdout)"
   ]
  },
  {
   "cell_type": "code",
   "execution_count": 9,
   "metadata": {},
   "outputs": [
    {
     "data": {
      "text/plain": [
       "[Text(0, 0.5, 'word_freq_our'),\n",
       " Text(0.5, 0, 'Class'),\n",
       " Text(0.5, 1.0, 'Box plot ')]"
      ]
     },
     "execution_count": 9,
     "metadata": {},
     "output_type": "execute_result"
    },
    {
     "data": {
      "image/png": "[encoded data removed]",
      "text/plain": [
       "<Figure size 432x288 with 1 Axes>"
      ]
     },
     "metadata": {
      "needs_background": "light"
     },
     "output_type": "display_data"
    }
   ],
   "source": [
    "# Plot box plot\n",
    "ax = sns.boxplot(x = 'class', y = 'word_freq_our', data = data, whis = 10)\n",
    "ax.set(title = 'Box plot ', xlabel = 'Class', ylabel = 'word_freq_our')"
   ]
  },
  {
   "cell_type": "code",
   "execution_count": 10,
   "metadata": {},
   "outputs": [
    {
     "data": {
      "image/png": "[encoded data removed]",
      "text/plain": [
       "<Figure size 720x360 with 6 Axes>"
      ]
     },
     "metadata": {
      "needs_background": "light"
     },
     "output_type": "display_data"
    }
   ],
   "source": [
    "fig, axes = plt.subplots(1, 6, figsize = (10, 5))\n",
    "for i in range(0,6):\n",
    "    sns.boxplot(x='class', y = data.columns[i], data = data, orient = 'v', ax = axes[i], whis=10)\n",
    "plt.tight_layout()"
   ]
  },
  {
   "cell_type": "code",
   "execution_count": 11,
   "metadata": {},
   "outputs": [
    {
     "data": {
      "image/png": "[encoded data removed]",
      "text/plain": [
       "<Figure size 720x360 with 6 Axes>"
      ]
     },
     "metadata": {
      "needs_background": "light"
     },
     "output_type": "display_data"
    }
   ],
   "source": [
    "fig, axes = plt.subplots(1, 6, figsize = (10, 5))\n",
    "j = 0\n",
    "for i in range(6,12):\n",
    "    sns.boxplot(x='class', y = data.columns[i], data = data, orient = 'v', ax = axes[j], whis=10)\n",
    "    j+=1\n",
    "plt.tight_layout()"
   ]
  },
  {
   "cell_type": "code",
   "execution_count": 12,
   "metadata": {},
   "outputs": [
    {
     "data": {
      "image/png": "[encoded data removed]",
      "text/plain": [
       "<Figure size 720x360 with 6 Axes>"
      ]
     },
     "metadata": {
      "needs_background": "light"
     },
     "output_type": "display_data"
    }
   ],
   "source": [
    "fig, axes = plt.subplots(1, 6, figsize = (10, 5))\n",
    "j = 0\n",
    "for i in range(12,18):\n",
    "    sns.boxplot(x='class', y = data.columns[i], data = data, orient = 'v', ax = axes[j], whis=10)\n",
    "    j+=1\n",
    "plt.tight_layout()"
   ]
  },
  {
   "cell_type": "code",
   "execution_count": 13,
   "metadata": {},
   "outputs": [
    {
     "data": {
      "image/png": "[encoded data removed]",
      "text/plain": [
       "<Figure size 720x360 with 6 Axes>"
      ]
     },
     "metadata": {
      "needs_background": "light"
     },
     "output_type": "display_data"
    }
   ],
   "source": [
    "fig, axes = plt.subplots(1, 6, figsize = (10, 5))\n",
    "j = 0\n",
    "for i in range(18,24):\n",
    "    sns.boxplot(x='class', y = data.columns[i], data = data, orient = 'v', ax = axes[j], whis=10)\n",
    "    j+=1\n",
    "plt.tight_layout()"
   ]
  },
  {
   "cell_type": "code",
   "execution_count": 14,
   "metadata": {},
   "outputs": [
    {
     "data": {
      "image/png": "[encoded data removed]",
      "text/plain": [
       "<Figure size 720x360 with 6 Axes>"
      ]
     },
     "metadata": {
      "needs_background": "light"
     },
     "output_type": "display_data"
    }
   ],
   "source": [
    "fig, axes = plt.subplots(1, 6, figsize = (10, 5))\n",
    "j = 0\n",
    "for i in range(24,30):\n",
    "    sns.boxplot(x='class', y = data.columns[i], data = data, orient = 'v', ax = axes[j], whis=10)\n",
    "    j+=1\n",
    "plt.tight_layout()"
   ]
  },
  {
   "cell_type": "code",
   "execution_count": 15,
   "metadata": {},
   "outputs": [
    {
     "data": {
      "image/png": "[encoded data removed]",
      "text/plain": [
       "<Figure size 720x360 with 6 Axes>"
      ]
     },
     "metadata": {
      "needs_background": "light"
     },
     "output_type": "display_data"
    }
   ],
   "source": [
    "fig, axes = plt.subplots(1, 6, figsize = (10, 5))\n",
    "j = 0\n",
    "for i in range(30,36):\n",
    "    sns.boxplot(x='class', y = data.columns[i], data = data, orient = 'v', ax = axes[j], whis=10)\n",
    "    j+=1\n",
    "plt.tight_layout()"
   ]
  },
  {
   "cell_type": "code",
   "execution_count": 16,
   "metadata": {},
   "outputs": [
    {
     "data": {
      "image/png": "[encoded data removed]",
      "text/plain": [
       "<Figure size 720x360 with 6 Axes>"
      ]
     },
     "metadata": {
      "needs_background": "light"
     },
     "output_type": "display_data"
    }
   ],
   "source": [
    "fig, axes = plt.subplots(1, 6, figsize = (10, 5))\n",
    "j = 0\n",
    "for i in range(36,42):\n",
    "    sns.boxplot(x='class', y = data.columns[i], data = data, orient = 'v', ax = axes[j], whis=10)\n",
    "    j+=1\n",
    "plt.tight_layout()"
   ]
  },
  {
   "cell_type": "code",
   "execution_count": 17,
   "metadata": {},
   "outputs": [
    {
     "data": {
      "image/png": "[encoded data removed]",
      "text/plain": [
       "<Figure size 720x360 with 6 Axes>"
      ]
     },
     "metadata": {
      "needs_background": "light"
     },
     "output_type": "display_data"
    }
   ],
   "source": [
    "fig, axes = plt.subplots(1, 6, figsize = (10, 5))\n",
    "j = 0\n",
    "for i in range(42,48):\n",
    "    sns.boxplot(x='class', y = data.columns[i], data = data, orient = 'v', ax = axes[j], whis=10)\n",
    "    j+=1\n",
    "plt.tight_layout()"
   ]
  },
  {
   "cell_type": "code",
   "execution_count": 18,
   "metadata": {},
   "outputs": [
    {
     "data": {
      "image/png": "[encoded data removed]",
      "text/plain": [
       "<Figure size 720x360 with 6 Axes>"
      ]
     },
     "metadata": {
      "needs_background": "light"
     },
     "output_type": "display_data"
    }
   ],
   "source": [
    "fig, axes = plt.subplots(1, 6, figsize = (10, 5))\n",
    "j = 0\n",
    "for i in range(48,54):\n",
    "    sns.boxplot(x='class', y = data.columns[i], data = data, orient = 'v', ax = axes[j], whis=10)\n",
    "    j+=1\n",
    "plt.tight_layout()"
   ]
  },
  {
   "cell_type": "code",
   "execution_count": 19,
   "metadata": {},
   "outputs": [
    {
     "data": {
      "image/png": "[encoded data removed]",
      "text/plain": [
       "<Figure size 720x360 with 6 Axes>"
      ]
     },
     "metadata": {
      "needs_background": "light"
     },
     "output_type": "display_data"
    }
   ],
   "source": [
    "fig, axes = plt.subplots(1, 6, figsize = (10, 5))\n",
    "j = 0\n",
    "for i in range(54,56):\n",
    "    sns.boxplot(x='class', y = data.columns[i], data = data, orient = 'v', ax = axes[j], whis=10)\n",
    "    j+=1\n",
    "plt.tight_layout()"
   ]
  },
  {
   "cell_type": "markdown",
   "metadata": {},
   "source": [
    "# Data Modelling"
   ]
  },
  {
   "cell_type": "markdown",
   "metadata": {},
   "source": [
    "## Classification"
   ]
  },
  {
   "cell_type": "code",
   "execution_count": 20,
   "metadata": {},
   "outputs": [],
   "source": [
    "#Splitting dataset for classification\n",
    "#creating test and train sets\n",
    "x_train, x_test, y_train, y_test = train_test_split(data.iloc[:,:-1],data['class'],test_size=0.2, random_state=0)\n",
    "#x_test = x_test.iloc[:,:-1]"
   ]
  },
  {
   "cell_type": "code",
   "execution_count": 21,
   "metadata": {},
   "outputs": [
    {
     "data": {
      "text/html": [
       "<div>\n",
       "<style scoped>\n",
       "    .dataframe tbody tr th:only-of-type {\n",
       "        vertical-align: middle;\n",
       "    }\n",
       "\n",
       "    .dataframe tbody tr th {\n",
       "        vertical-align: top;\n",
       "    }\n",
       "\n",
       "    .dataframe thead th {\n",
       "        text-align: right;\n",
       "    }\n",
       "</style>\n",
       "<table border=\"1\" class=\"dataframe\">\n",
       "  <thead>\n",
       "    <tr style=\"text-align: right;\">\n",
       "      <th></th>\n",
       "      <th>word_freq_make</th>\n",
       "      <th>word_freq_address</th>\n",
       "      <th>word_freq_all</th>\n",
       "      <th>word_freq_3d</th>\n",
       "      <th>word_freq_our</th>\n",
       "      <th>word_freq_over</th>\n",
       "      <th>word_freq_remove</th>\n",
       "      <th>word_freq_internet</th>\n",
       "      <th>word_freq_order</th>\n",
       "      <th>word_freq_mail</th>\n",
       "      <th>...</th>\n",
       "      <th>word_freq_conference</th>\n",
       "      <th>char_freq_%3B</th>\n",
       "      <th>char_freq_%28</th>\n",
       "      <th>char_freq_%5B</th>\n",
       "      <th>char_freq_%21</th>\n",
       "      <th>char_freq_%24</th>\n",
       "      <th>char_freq_%23</th>\n",
       "      <th>capital_run_length_average</th>\n",
       "      <th>capital_run_length_longest</th>\n",
       "      <th>capital_run_length_total</th>\n",
       "    </tr>\n",
       "  </thead>\n",
       "  <tbody>\n",
       "    <tr>\n",
       "      <th>36</th>\n",
       "      <td>0.00</td>\n",
       "      <td>0.0</td>\n",
       "      <td>0.00</td>\n",
       "      <td>0.0</td>\n",
       "      <td>2.94</td>\n",
       "      <td>0.00</td>\n",
       "      <td>0.00</td>\n",
       "      <td>0.00</td>\n",
       "      <td>0.00</td>\n",
       "      <td>0.00</td>\n",
       "      <td>...</td>\n",
       "      <td>0.0</td>\n",
       "      <td>0.436</td>\n",
       "      <td>0.436</td>\n",
       "      <td>0.000</td>\n",
       "      <td>0.873</td>\n",
       "      <td>0.000</td>\n",
       "      <td>0.0</td>\n",
       "      <td>4.142</td>\n",
       "      <td>12</td>\n",
       "      <td>29</td>\n",
       "    </tr>\n",
       "    <tr>\n",
       "      <th>706</th>\n",
       "      <td>0.00</td>\n",
       "      <td>0.0</td>\n",
       "      <td>0.00</td>\n",
       "      <td>0.0</td>\n",
       "      <td>0.84</td>\n",
       "      <td>1.27</td>\n",
       "      <td>0.42</td>\n",
       "      <td>0.00</td>\n",
       "      <td>0.00</td>\n",
       "      <td>0.42</td>\n",
       "      <td>...</td>\n",
       "      <td>0.0</td>\n",
       "      <td>0.097</td>\n",
       "      <td>0.097</td>\n",
       "      <td>1.171</td>\n",
       "      <td>0.244</td>\n",
       "      <td>0.390</td>\n",
       "      <td>0.0</td>\n",
       "      <td>26.405</td>\n",
       "      <td>363</td>\n",
       "      <td>977</td>\n",
       "    </tr>\n",
       "    <tr>\n",
       "      <th>1559</th>\n",
       "      <td>0.32</td>\n",
       "      <td>0.0</td>\n",
       "      <td>0.80</td>\n",
       "      <td>0.0</td>\n",
       "      <td>0.80</td>\n",
       "      <td>0.32</td>\n",
       "      <td>0.16</td>\n",
       "      <td>0.00</td>\n",
       "      <td>0.64</td>\n",
       "      <td>0.00</td>\n",
       "      <td>...</td>\n",
       "      <td>0.0</td>\n",
       "      <td>0.000</td>\n",
       "      <td>0.050</td>\n",
       "      <td>0.000</td>\n",
       "      <td>0.050</td>\n",
       "      <td>0.075</td>\n",
       "      <td>0.0</td>\n",
       "      <td>1.419</td>\n",
       "      <td>15</td>\n",
       "      <td>159</td>\n",
       "    </tr>\n",
       "    <tr>\n",
       "      <th>1349</th>\n",
       "      <td>0.18</td>\n",
       "      <td>0.0</td>\n",
       "      <td>0.09</td>\n",
       "      <td>0.0</td>\n",
       "      <td>0.36</td>\n",
       "      <td>0.09</td>\n",
       "      <td>0.00</td>\n",
       "      <td>0.36</td>\n",
       "      <td>0.09</td>\n",
       "      <td>0.00</td>\n",
       "      <td>...</td>\n",
       "      <td>0.0</td>\n",
       "      <td>0.000</td>\n",
       "      <td>0.059</td>\n",
       "      <td>0.029</td>\n",
       "      <td>0.029</td>\n",
       "      <td>0.014</td>\n",
       "      <td>0.0</td>\n",
       "      <td>4.192</td>\n",
       "      <td>48</td>\n",
       "      <td>566</td>\n",
       "    </tr>\n",
       "    <tr>\n",
       "      <th>3878</th>\n",
       "      <td>0.00</td>\n",
       "      <td>0.0</td>\n",
       "      <td>0.00</td>\n",
       "      <td>0.0</td>\n",
       "      <td>0.00</td>\n",
       "      <td>0.00</td>\n",
       "      <td>0.00</td>\n",
       "      <td>0.00</td>\n",
       "      <td>0.13</td>\n",
       "      <td>0.00</td>\n",
       "      <td>...</td>\n",
       "      <td>0.0</td>\n",
       "      <td>0.125</td>\n",
       "      <td>0.438</td>\n",
       "      <td>0.146</td>\n",
       "      <td>0.000</td>\n",
       "      <td>0.000</td>\n",
       "      <td>0.0</td>\n",
       "      <td>3.657</td>\n",
       "      <td>35</td>\n",
       "      <td>534</td>\n",
       "    </tr>\n",
       "  </tbody>\n",
       "</table>\n",
       "<p>5 rows × 57 columns</p>\n",
       "</div>"
      ],
      "text/plain": [
       "      word_freq_make  word_freq_address  word_freq_all  word_freq_3d  \\\n",
       "36              0.00                0.0           0.00           0.0   \n",
       "706             0.00                0.0           0.00           0.0   \n",
       "1559            0.32                0.0           0.80           0.0   \n",
       "1349            0.18                0.0           0.09           0.0   \n",
       "3878            0.00                0.0           0.00           0.0   \n",
       "\n",
       "      word_freq_our  word_freq_over  word_freq_remove  word_freq_internet  \\\n",
       "36             2.94            0.00              0.00                0.00   \n",
       "706            0.84            1.27              0.42                0.00   \n",
       "1559           0.80            0.32              0.16                0.00   \n",
       "1349           0.36            0.09              0.00                0.36   \n",
       "3878           0.00            0.00              0.00                0.00   \n",
       "\n",
       "      word_freq_order  word_freq_mail  ...  word_freq_conference  \\\n",
       "36               0.00            0.00  ...                   0.0   \n",
       "706              0.00            0.42  ...                   0.0   \n",
       "1559             0.64            0.00  ...                   0.0   \n",
       "1349             0.09            0.00  ...                   0.0   \n",
       "3878             0.13            0.00  ...                   0.0   \n",
       "\n",
       "      char_freq_%3B  char_freq_%28  char_freq_%5B  char_freq_%21  \\\n",
       "36            0.436          0.436          0.000          0.873   \n",
       "706           0.097          0.097          1.171          0.244   \n",
       "1559          0.000          0.050          0.000          0.050   \n",
       "1349          0.000          0.059          0.029          0.029   \n",
       "3878          0.125          0.438          0.146          0.000   \n",
       "\n",
       "      char_freq_%24  char_freq_%23  capital_run_length_average  \\\n",
       "36            0.000            0.0                       4.142   \n",
       "706           0.390            0.0                      26.405   \n",
       "1559          0.075            0.0                       1.419   \n",
       "1349          0.014            0.0                       4.192   \n",
       "3878          0.000            0.0                       3.657   \n",
       "\n",
       "      capital_run_length_longest  capital_run_length_total  \n",
       "36                            12                        29  \n",
       "706                          363                       977  \n",
       "1559                          15                       159  \n",
       "1349                          48                       566  \n",
       "3878                          35                       534  \n",
       "\n",
       "[5 rows x 57 columns]"
      ]
     },
     "execution_count": 21,
     "metadata": {},
     "output_type": "execute_result"
    }
   ],
   "source": [
    "x_train.head()"
   ]
  },
  {
   "cell_type": "code",
   "execution_count": 22,
   "metadata": {},
   "outputs": [],
   "source": [
    "#creating validation set\n",
    "x_train, x_val, y_train, y_val = train_test_split(x_train,y_train,test_size=0.25, random_state=0)"
   ]
  },
  {
   "cell_type": "code",
   "execution_count": 23,
   "metadata": {},
   "outputs": [],
   "source": [
    "#x_val.count()"
   ]
  },
  {
   "cell_type": "code",
   "execution_count": 24,
   "metadata": {},
   "outputs": [
    {
     "data": {
      "text/html": [
       "<div>\n",
       "<style scoped>\n",
       "    .dataframe tbody tr th:only-of-type {\n",
       "        vertical-align: middle;\n",
       "    }\n",
       "\n",
       "    .dataframe tbody tr th {\n",
       "        vertical-align: top;\n",
       "    }\n",
       "\n",
       "    .dataframe thead th {\n",
       "        text-align: right;\n",
       "    }\n",
       "</style>\n",
       "<table border=\"1\" class=\"dataframe\">\n",
       "  <thead>\n",
       "    <tr style=\"text-align: right;\">\n",
       "      <th></th>\n",
       "      <th>word_freq_make</th>\n",
       "      <th>word_freq_address</th>\n",
       "      <th>word_freq_all</th>\n",
       "      <th>word_freq_3d</th>\n",
       "      <th>word_freq_our</th>\n",
       "      <th>word_freq_over</th>\n",
       "      <th>word_freq_remove</th>\n",
       "      <th>word_freq_internet</th>\n",
       "      <th>word_freq_order</th>\n",
       "      <th>word_freq_mail</th>\n",
       "      <th>...</th>\n",
       "      <th>word_freq_conference</th>\n",
       "      <th>char_freq_%3B</th>\n",
       "      <th>char_freq_%28</th>\n",
       "      <th>char_freq_%5B</th>\n",
       "      <th>char_freq_%21</th>\n",
       "      <th>char_freq_%24</th>\n",
       "      <th>char_freq_%23</th>\n",
       "      <th>capital_run_length_average</th>\n",
       "      <th>capital_run_length_longest</th>\n",
       "      <th>capital_run_length_total</th>\n",
       "    </tr>\n",
       "  </thead>\n",
       "  <tbody>\n",
       "    <tr>\n",
       "      <th>438</th>\n",
       "      <td>0.00</td>\n",
       "      <td>0.00</td>\n",
       "      <td>0.00</td>\n",
       "      <td>0.0</td>\n",
       "      <td>1.31</td>\n",
       "      <td>0.00</td>\n",
       "      <td>0.0</td>\n",
       "      <td>0.00</td>\n",
       "      <td>0.0</td>\n",
       "      <td>0.00</td>\n",
       "      <td>...</td>\n",
       "      <td>0.0</td>\n",
       "      <td>0.000</td>\n",
       "      <td>0.251</td>\n",
       "      <td>0.000</td>\n",
       "      <td>1.007</td>\n",
       "      <td>0.000</td>\n",
       "      <td>0.0</td>\n",
       "      <td>1.440</td>\n",
       "      <td>8</td>\n",
       "      <td>36</td>\n",
       "    </tr>\n",
       "    <tr>\n",
       "      <th>321</th>\n",
       "      <td>0.00</td>\n",
       "      <td>0.00</td>\n",
       "      <td>0.00</td>\n",
       "      <td>0.0</td>\n",
       "      <td>0.00</td>\n",
       "      <td>0.00</td>\n",
       "      <td>0.0</td>\n",
       "      <td>0.67</td>\n",
       "      <td>0.0</td>\n",
       "      <td>0.67</td>\n",
       "      <td>...</td>\n",
       "      <td>0.0</td>\n",
       "      <td>0.170</td>\n",
       "      <td>0.511</td>\n",
       "      <td>0.085</td>\n",
       "      <td>0.511</td>\n",
       "      <td>0.000</td>\n",
       "      <td>0.0</td>\n",
       "      <td>4.617</td>\n",
       "      <td>27</td>\n",
       "      <td>217</td>\n",
       "    </tr>\n",
       "    <tr>\n",
       "      <th>448</th>\n",
       "      <td>0.12</td>\n",
       "      <td>0.12</td>\n",
       "      <td>0.24</td>\n",
       "      <td>0.0</td>\n",
       "      <td>1.34</td>\n",
       "      <td>0.12</td>\n",
       "      <td>0.0</td>\n",
       "      <td>0.12</td>\n",
       "      <td>0.0</td>\n",
       "      <td>0.00</td>\n",
       "      <td>...</td>\n",
       "      <td>0.0</td>\n",
       "      <td>0.061</td>\n",
       "      <td>0.020</td>\n",
       "      <td>0.000</td>\n",
       "      <td>0.041</td>\n",
       "      <td>0.041</td>\n",
       "      <td>0.0</td>\n",
       "      <td>2.351</td>\n",
       "      <td>69</td>\n",
       "      <td>254</td>\n",
       "    </tr>\n",
       "    <tr>\n",
       "      <th>4459</th>\n",
       "      <td>0.00</td>\n",
       "      <td>0.00</td>\n",
       "      <td>0.00</td>\n",
       "      <td>0.0</td>\n",
       "      <td>0.00</td>\n",
       "      <td>0.00</td>\n",
       "      <td>0.0</td>\n",
       "      <td>0.00</td>\n",
       "      <td>0.0</td>\n",
       "      <td>0.00</td>\n",
       "      <td>...</td>\n",
       "      <td>0.0</td>\n",
       "      <td>0.000</td>\n",
       "      <td>0.000</td>\n",
       "      <td>0.000</td>\n",
       "      <td>19.131</td>\n",
       "      <td>0.000</td>\n",
       "      <td>0.0</td>\n",
       "      <td>13.250</td>\n",
       "      <td>48</td>\n",
       "      <td>53</td>\n",
       "    </tr>\n",
       "    <tr>\n",
       "      <th>3500</th>\n",
       "      <td>0.00</td>\n",
       "      <td>0.00</td>\n",
       "      <td>0.00</td>\n",
       "      <td>0.0</td>\n",
       "      <td>0.00</td>\n",
       "      <td>0.00</td>\n",
       "      <td>0.0</td>\n",
       "      <td>0.00</td>\n",
       "      <td>0.0</td>\n",
       "      <td>1.96</td>\n",
       "      <td>...</td>\n",
       "      <td>0.0</td>\n",
       "      <td>0.000</td>\n",
       "      <td>0.373</td>\n",
       "      <td>0.000</td>\n",
       "      <td>0.000</td>\n",
       "      <td>0.000</td>\n",
       "      <td>0.0</td>\n",
       "      <td>1.857</td>\n",
       "      <td>11</td>\n",
       "      <td>26</td>\n",
       "    </tr>\n",
       "  </tbody>\n",
       "</table>\n",
       "<p>5 rows × 57 columns</p>\n",
       "</div>"
      ],
      "text/plain": [
       "      word_freq_make  word_freq_address  word_freq_all  word_freq_3d  \\\n",
       "438             0.00               0.00           0.00           0.0   \n",
       "321             0.00               0.00           0.00           0.0   \n",
       "448             0.12               0.12           0.24           0.0   \n",
       "4459            0.00               0.00           0.00           0.0   \n",
       "3500            0.00               0.00           0.00           0.0   \n",
       "\n",
       "      word_freq_our  word_freq_over  word_freq_remove  word_freq_internet  \\\n",
       "438            1.31            0.00               0.0                0.00   \n",
       "321            0.00            0.00               0.0                0.67   \n",
       "448            1.34            0.12               0.0                0.12   \n",
       "4459           0.00            0.00               0.0                0.00   \n",
       "3500           0.00            0.00               0.0                0.00   \n",
       "\n",
       "      word_freq_order  word_freq_mail  ...  word_freq_conference  \\\n",
       "438               0.0            0.00  ...                   0.0   \n",
       "321               0.0            0.67  ...                   0.0   \n",
       "448               0.0            0.00  ...                   0.0   \n",
       "4459              0.0            0.00  ...                   0.0   \n",
       "3500              0.0            1.96  ...                   0.0   \n",
       "\n",
       "      char_freq_%3B  char_freq_%28  char_freq_%5B  char_freq_%21  \\\n",
       "438           0.000          0.251          0.000          1.007   \n",
       "321           0.170          0.511          0.085          0.511   \n",
       "448           0.061          0.020          0.000          0.041   \n",
       "4459          0.000          0.000          0.000         19.131   \n",
       "3500          0.000          0.373          0.000          0.000   \n",
       "\n",
       "      char_freq_%24  char_freq_%23  capital_run_length_average  \\\n",
       "438           0.000            0.0                       1.440   \n",
       "321           0.000            0.0                       4.617   \n",
       "448           0.041            0.0                       2.351   \n",
       "4459          0.000            0.0                      13.250   \n",
       "3500          0.000            0.0                       1.857   \n",
       "\n",
       "      capital_run_length_longest  capital_run_length_total  \n",
       "438                            8                        36  \n",
       "321                           27                       217  \n",
       "448                           69                       254  \n",
       "4459                          48                        53  \n",
       "3500                          11                        26  \n",
       "\n",
       "[5 rows x 57 columns]"
      ]
     },
     "execution_count": 24,
     "metadata": {},
     "output_type": "execute_result"
    }
   ],
   "source": [
    "x_train.head()"
   ]
  },
  {
   "cell_type": "code",
   "execution_count": 25,
   "metadata": {},
   "outputs": [
    {
     "name": "stdout",
     "output_type": "stream",
     "text": [
      "(2760, 57)\n",
      "(920, 57)\n",
      "(921, 57)\n"
     ]
    }
   ],
   "source": [
    "print(x_train.shape)\n",
    "print(x_val.shape)\n",
    "print(x_test.shape)"
   ]
  },
  {
   "cell_type": "code",
   "execution_count": 26,
   "metadata": {},
   "outputs": [],
   "source": [
    "#standardizing datasets for classification\n",
    "scaler = StandardScaler()\n",
    "scaler.fit(x_train)\n",
    "x_train_scaled = scaler.transform(x_train)\n",
    "x_train_scaled = pd.DataFrame(x_train_scaled)\n",
    "x_val_scaled = scaler.transform(x_val)\n",
    "x_val_scaled = pd.DataFrame(x_val_scaled)"
   ]
  },
  {
   "cell_type": "markdown",
   "metadata": {},
   "source": [
    "### Decision Tree"
   ]
  },
  {
   "cell_type": "code",
   "execution_count": 27,
   "metadata": {},
   "outputs": [
    {
     "data": {
      "text/plain": [
       "DecisionTreeClassifier(class_weight=None, criterion='entropy', max_depth=None,\n",
       "                       max_features=None, max_leaf_nodes=None,\n",
       "                       min_impurity_decrease=0.0, min_impurity_split=None,\n",
       "                       min_samples_leaf=1, min_samples_split=2,\n",
       "                       min_weight_fraction_leaf=0.0, presort=False,\n",
       "                       random_state=0, splitter='best')"
      ]
     },
     "execution_count": 27,
     "metadata": {},
     "output_type": "execute_result"
    }
   ],
   "source": [
    "classifier = DecisionTreeClassifier(criterion = \"entropy\", random_state = 0)\n",
    "classifier.fit(x_train_scaled,y_train)"
   ]
  },
  {
   "cell_type": "code",
   "execution_count": 28,
   "metadata": {},
   "outputs": [
    {
     "name": "stdout",
     "output_type": "stream",
     "text": [
      "[(  1, 170, 51, -2.56982386e-01, 0.96232475, 2760, 2.760e+03)\n",
      " (  2, 145,  6, -1.83848463e-01, 0.61775685, 1632, 1.632e+03)\n",
      " (  3, 126, 52, -7.71169402e-02, 0.45238162, 1508, 1.508e+03)\n",
      " (  4,  99, 15, -1.73892006e-01, 0.35119077, 1407, 1.407e+03)\n",
      " (  5,  98, 26, -2.29724139e-01, 0.26208136, 1284, 1.284e+03)\n",
      " (  6,  91, 24, -3.13460872e-01, 0.339719  ,  903, 9.030e+02)\n",
      " (  7,  54, 55, -2.91435421e-01, 0.44661061,  591, 5.910e+02)\n",
      " (  8,  49,  7,  1.73588783e+00, 0.23016274,  428, 4.280e+02)\n",
      " (  9,  30, 11,  3.06016490e-01, 0.19914574,  420, 4.200e+02)\n",
      " ( 10,  29, 54, -1.18809063e-01, 0.12536979,  349, 3.490e+02)\n",
      " ( 11,  12, 56, -4.49156404e-01, 0.24602258,  147, 1.470e+02)\n",
      " ( -1,  -1, -2, -2.00000000e+00, 0.        ,   92, 9.200e+01)\n",
      " ( 13,  28, 49, -5.29353008e-01, 0.49716776,   55, 5.500e+01)\n",
      " ( 14,  27,  2, -1.49928108e-01, 0.72192809,   30, 3.000e+01)\n",
      " ( 15,  26, 44, -1.29735893e-01, 0.8812909 ,   20, 2.000e+01)\n",
      " ( 16,  25, 56, -4.24175784e-01, 0.98522814,   14, 1.400e+01)\n",
      " ( 17,  24, 55, -3.66216481e-01, 0.84535094,   11, 1.100e+01)\n",
      " ( 18,  23, 56, -4.44160268e-01, 0.72192809,   10, 1.000e+01)\n",
      " ( 19,  22, 56, -4.45825651e-01, 1.        ,    4, 4.000e+00)\n",
      " ( 20,  21, 19,  1.72682477e+01, 0.91829583,    3, 3.000e+00)\n",
      " ( -1,  -1, -2, -2.00000000e+00, 0.        ,    2, 2.000e+00)\n",
      " ( -1,  -1, -2, -2.00000000e+00, 0.        ,    1, 1.000e+00)\n",
      " ( -1,  -1, -2, -2.00000000e+00, 0.        ,    1, 1.000e+00)\n",
      " ( -1,  -1, -2, -2.00000000e+00, 0.        ,    6, 6.000e+00)\n",
      " ( -1,  -1, -2, -2.00000000e+00, 0.        ,    1, 1.000e+00)\n",
      " ( -1,  -1, -2, -2.00000000e+00, 0.        ,    3, 3.000e+00)\n",
      " ( -1,  -1, -2, -2.00000000e+00, 0.        ,    6, 6.000e+00)\n",
      " ( -1,  -1, -2, -2.00000000e+00, 0.        ,   10, 1.000e+01)\n",
      " ( -1,  -1, -2, -2.00000000e+00, 0.        ,   25, 2.500e+01)\n",
      " ( -1,  -1, -2, -2.00000000e+00, 0.        ,  202, 2.020e+02)\n",
      " ( 31,  32, 18, -3.38467538e-01, 0.46451494,   71, 7.100e+01)\n",
      " ( -1,  -1, -2, -2.00000000e+00, 0.        ,   30, 3.000e+01)\n",
      " ( 33,  48, 49,  1.78198710e-01, 0.65937588,   41, 4.100e+01)\n",
      " ( 34,  47, 49, -4.32912842e-03, 0.84035867,   26, 2.600e+01)\n",
      " ( 35,  44, 55, -3.16362441e-01, 0.73828487,   24, 2.400e+01)\n",
      " ( 36,  43, 20, -4.37705889e-01, 0.59167278,   21, 2.100e+01)\n",
      " ( 37,  42, 11,  5.22453928e+00, 0.8812909 ,   10, 1.000e+01)\n",
      " ( 38,  41,  9,  7.25174248e-01, 0.76420451,    9, 9.000e+00)\n",
      " ( 39,  40, 18, -1.42490017e-01, 0.54356444,    8, 8.000e+00)\n",
      " ( -1,  -1, -2, -2.00000000e+00, 0.        ,    1, 1.000e+00)\n",
      " ( -1,  -1, -2, -2.00000000e+00, 0.        ,    7, 7.000e+00)\n",
      " ( -1,  -1, -2, -2.00000000e+00, 0.        ,    1, 1.000e+00)\n",
      " ( -1,  -1, -2, -2.00000000e+00, 0.        ,    1, 1.000e+00)\n",
      " ( -1,  -1, -2, -2.00000000e+00, 0.        ,   11, 1.100e+01)\n",
      " ( 45,  46, 56, -3.77545282e-01, 0.91829583,    3, 3.000e+00)\n",
      " ( -1,  -1, -2, -2.00000000e+00, 0.        ,    2, 2.000e+00)\n",
      " ( -1,  -1, -2, -2.00000000e+00, 0.        ,    1, 1.000e+00)\n",
      " ( -1,  -1, -2, -2.00000000e+00, 0.        ,    2, 2.000e+00)\n",
      " ( -1,  -1, -2, -2.00000000e+00, 0.        ,   15, 1.500e+01)\n",
      " ( 50,  53, 49, -1.25330724e-01, 0.954434  ,    8, 8.000e+00)\n",
      " ( 51,  52, 56, -4.54985201e-01, 0.65002242,    6, 6.000e+00)\n",
      " ( -1,  -1, -2, -2.00000000e+00, 0.        ,    1, 1.000e+00)\n",
      " ( -1,  -1, -2, -2.00000000e+00, 0.        ,    5, 5.000e+00)\n",
      " ( -1,  -1, -2, -2.00000000e+00, 0.        ,    2, 2.000e+00)\n",
      " ( 55,  88, 45, -1.63039058e-01, 0.79381387,  163, 1.630e+02)\n",
      " ( 56,  87,  5,  2.26851499e+00, 0.9696787 ,   93, 9.300e+01)\n",
      " ( 57,  86, 23, -1.83487222e-01, 0.9330253 ,   86, 8.600e+01)\n",
      " ( 58,  85, 44, -1.72594275e-01, 0.89159963,   81, 8.100e+01)\n",
      " ( 59,  84, 36,  1.71415862e-01, 0.94028596,   70, 7.000e+01)\n",
      " ( 60,  81, 18,  4.69939753e-01, 0.97986876,   60, 6.000e+01)\n",
      " ( 61,  66, 49, -4.98589888e-01, 0.91829583,   51, 5.100e+01)\n",
      " ( 62,  63, 55, -1.30836759e-02, 0.43949699,   22, 2.200e+01)\n",
      " ( -1,  -1, -2, -2.00000000e+00, 0.        ,   18, 1.800e+01)\n",
      " ( 64,  65, 53,  5.39423984e-01, 1.        ,    4, 4.000e+00)\n",
      " ( -1,  -1, -2, -2.00000000e+00, 0.        ,    2, 2.000e+00)\n",
      " ( -1,  -1, -2, -2.00000000e+00, 0.        ,    2, 2.000e+00)\n",
      " ( 67,  68, 55, -2.62353897e-01, 0.9991421 ,   29, 2.900e+01)\n",
      " ( -1,  -1, -2, -2.00000000e+00, 0.        ,    5, 5.000e+00)\n",
      " ( 69,  70, 55, -2.08345354e-01, 0.97986876,   24, 2.400e+01)\n",
      " ( -1,  -1, -2, -2.00000000e+00, 0.        ,    6, 6.000e+00)\n",
      " ( 71,  80, 32, -1.09255141e-01, 0.99107606,   18, 1.800e+01)\n",
      " ( 72,  79, 51, -3.06137100e-01, 0.86312057,   14, 1.400e+01)\n",
      " ( 73,  78,  8,  2.82211936e+00, 0.65002242,   12, 1.200e+01)\n",
      " ( 74,  77, 55, -1.50182299e-01, 0.43949699,   11, 1.100e+01)\n",
      " ( 75,  76, 55, -1.91727340e-01, 1.        ,    2, 2.000e+00)\n",
      " ( -1,  -1, -2, -2.00000000e+00, 0.        ,    1, 1.000e+00)\n",
      " ( -1,  -1, -2, -2.00000000e+00, 0.        ,    1, 1.000e+00)\n",
      " ( -1,  -1, -2, -2.00000000e+00, 0.        ,    9, 9.000e+00)\n",
      " ( -1,  -1, -2, -2.00000000e+00, 0.        ,    1, 1.000e+00)\n",
      " ( -1,  -1, -2, -2.00000000e+00, 0.        ,    2, 2.000e+00)\n",
      " ( -1,  -1, -2, -2.00000000e+00, 0.        ,    4, 4.000e+00)\n",
      " ( 82,  83, 53, -2.11708974e-02, 0.50325833,    9, 9.000e+00)\n",
      " ( -1,  -1, -2, -2.00000000e+00, 0.        ,    8, 8.000e+00)\n",
      " ( -1,  -1, -2, -2.00000000e+00, 0.        ,    1, 1.000e+00)\n",
      " ( -1,  -1, -2, -2.00000000e+00, 0.        ,   10, 1.000e+01)\n",
      " ( -1,  -1, -2, -2.00000000e+00, 0.        ,   11, 1.100e+01)\n",
      " ( -1,  -1, -2, -2.00000000e+00, 0.        ,    5, 5.000e+00)\n",
      " ( -1,  -1, -2, -2.00000000e+00, 0.        ,    7, 7.000e+00)\n",
      " ( 89,  90, 13,  2.76294066e+00, 0.18717626,   70, 7.000e+01)\n",
      " ( -1,  -1, -2, -2.00000000e+00, 0.        ,   68, 6.800e+01)\n",
      " ( -1,  -1, -2, -2.00000000e+00, 0.        ,    2, 2.000e+00)\n",
      " ( 92,  93, 52, -1.35974258e-01, 0.05591964,  312, 3.120e+02)\n",
      " ( -1,  -1, -2, -2.00000000e+00, 0.        ,  302, 3.020e+02)\n",
      " ( 94,  97, 24,  5.65959215e-01, 0.72192809,   10, 1.000e+01)\n",
      " ( 95,  96, 39,  6.75361410e-01, 0.91829583,    3, 3.000e+00)\n",
      " ( -1,  -1, -2, -2.00000000e+00, 0.        ,    2, 2.000e+00)\n",
      " ( -1,  -1, -2, -2.00000000e+00, 0.        ,    1, 1.000e+00)\n",
      " ( -1,  -1, -2, -2.00000000e+00, 0.        ,    7, 7.000e+00)\n",
      " ( -1,  -1, -2, -2.00000000e+00, 0.        ,  381, 3.810e+02)\n",
      " (100, 125, 24, -2.84437105e-01, 0.87216179,  123, 1.230e+02)\n",
      " (101, 110, 55, -3.16362441e-01, 0.97844933,   87, 8.700e+01)\n",
      " (102, 109, 20,  1.11212689e+00, 0.50325833,   36, 3.600e+01)\n",
      " (103, 108, 18, -7.82138884e-01, 0.32275696,   34, 3.400e+01)\n",
      " (104, 105, 54, -1.14114337e-01, 0.76420451,    9, 9.000e+00)\n",
      " ( -1,  -1, -2, -2.00000000e+00, 0.        ,    5, 5.000e+00)\n",
      " (106, 107, 41,  1.05096070e+00, 1.        ,    4, 4.000e+00)\n",
      " ( -1,  -1, -2, -2.00000000e+00, 0.        ,    2, 2.000e+00)\n",
      " ( -1,  -1, -2, -2.00000000e+00, 0.        ,    2, 2.000e+00)\n",
      " ( -1,  -1, -2, -2.00000000e+00, 0.        ,   25, 2.500e+01)\n",
      " ( -1,  -1, -2, -2.00000000e+00, 0.        ,    2, 2.000e+00)\n",
      " (111, 124,  4,  8.41841832e-01, 0.95260921,   51, 5.100e+01)\n",
      " (112, 123, 44, -1.40450489e-01, 0.99777247,   36, 3.600e+01)\n",
      " (113, 122, 50,  1.07961275e-01, 0.97844933,   29, 2.900e+01)\n",
      " (114, 119, 54, -8.69761147e-02, 0.90438146,   25, 2.500e+01)\n",
      " (115, 116, 15,  3.21624060e-02, 0.91829583,    9, 9.000e+00)\n",
      " ( -1,  -1, -2, -2.00000000e+00, 0.        ,    5, 5.000e+00)\n",
      " (117, 118, 15,  5.67903876e-01, 0.81127812,    4, 4.000e+00)\n",
      " ( -1,  -1, -2, -2.00000000e+00, 0.        ,    3, 3.000e+00)\n",
      " ( -1,  -1, -2, -2.00000000e+00, 0.        ,    1, 1.000e+00)\n",
      " (120, 121, 17,  1.74281198e+00, 0.54356444,   16, 1.600e+01)\n",
      " ( -1,  -1, -2, -2.00000000e+00, 0.        ,   14, 1.400e+01)\n",
      " ( -1,  -1, -2, -2.00000000e+00, 0.        ,    2, 2.000e+00)\n",
      " ( -1,  -1, -2, -2.00000000e+00, 0.        ,    4, 4.000e+00)\n",
      " ( -1,  -1, -2, -2.00000000e+00, 0.        ,    7, 7.000e+00)\n",
      " ( -1,  -1, -2, -2.00000000e+00, 0.        ,   15, 1.500e+01)\n",
      " ( -1,  -1, -2, -2.00000000e+00, 0.        ,   36, 3.600e+01)\n",
      " (127, 144, 24, -2.23487198e-01, 0.99992929,  101, 1.010e+02)\n",
      " (128, 129, 55, -3.16362441e-01, 0.86312057,   70, 7.000e+01)\n",
      " ( -1,  -1, -2, -2.00000000e+00, 0.        ,   11, 1.100e+01)\n",
      " (130, 143, 45,  2.55087495e-01, 0.61616619,   59, 5.900e+01)\n",
      " (131, 142, 18, -2.75863618e-01, 0.49123734,   56, 5.600e+01)\n",
      " (132, 141, 17,  1.42283049e-01, 0.84535094,   22, 2.200e+01)\n",
      " (133, 140, 18, -3.87461931e-01, 0.72192809,   20, 2.000e+01)\n",
      " (134, 139,  0,  4.02596063e-01, 0.50325833,   18, 1.800e+01)\n",
      " (135, 136, 49,  7.95511931e-01, 0.32275696,   17, 1.700e+01)\n",
      " ( -1,  -1, -2, -2.00000000e+00, 0.        ,   15, 1.500e+01)\n",
      " (137, 138, 52,  1.39431590e+00, 1.        ,    2, 2.000e+00)\n",
      " ( -1,  -1, -2, -2.00000000e+00, 0.        ,    1, 1.000e+00)\n",
      " ( -1,  -1, -2, -2.00000000e+00, 0.        ,    1, 1.000e+00)\n",
      " ( -1,  -1, -2, -2.00000000e+00, 0.        ,    1, 1.000e+00)\n",
      " ( -1,  -1, -2, -2.00000000e+00, 0.        ,    2, 2.000e+00)\n",
      " ( -1,  -1, -2, -2.00000000e+00, 0.        ,    2, 2.000e+00)\n",
      " ( -1,  -1, -2, -2.00000000e+00, 0.        ,   34, 3.400e+01)\n",
      " ( -1,  -1, -2, -2.00000000e+00, 0.        ,    3, 3.000e+00)\n",
      " ( -1,  -1, -2, -2.00000000e+00, 0.        ,   31, 3.100e+01)\n",
      " (146, 169, 26, -2.09440462e-01, 0.57658473,  124, 1.240e+02)\n",
      " (147, 168, 16, -1.32601094e-01, 0.42116601,  117, 1.170e+02)\n",
      " (148, 157, 54, -9.82738547e-02, 0.59167278,   70, 7.000e+01)\n",
      " (149, 150, 51, -3.51017505e-01, 0.97095059,   15, 1.500e+01)\n",
      " ( -1,  -1, -2, -2.00000000e+00, 0.        ,    7, 7.000e+00)\n",
      " (151, 156, 44, -2.85097525e-01, 0.81127812,    8, 8.000e+00)\n",
      " (152, 155,  5, -1.31885342e-01, 1.        ,    4, 4.000e+00)\n",
      " (153, 154, 54, -1.14198770e-01, 0.91829583,    3, 3.000e+00)\n",
      " ( -1,  -1, -2, -2.00000000e+00, 0.        ,    1, 1.000e+00)\n",
      " ( -1,  -1, -2, -2.00000000e+00, 1.        ,    2, 2.000e+00)\n",
      " ( -1,  -1, -2, -2.00000000e+00, 0.        ,    1, 1.000e+00)\n",
      " ( -1,  -1, -2, -2.00000000e+00, 0.        ,    4, 4.000e+00)\n",
      " (158, 167,  4, -3.28422971e-01, 0.37601985,   55, 5.500e+01)\n",
      " (159, 166, 32,  1.46561772e-01, 0.72192809,   20, 2.000e+01)\n",
      " (160, 161,  6,  3.91349077e+00, 0.50325833,   18, 1.800e+01)\n",
      " ( -1,  -1, -2, -2.00000000e+00, 0.        ,   14, 1.400e+01)\n",
      " (162, 163, 55, -2.12499857e-01, 1.        ,    4, 4.000e+00)\n",
      " ( -1,  -1, -2, -2.00000000e+00, 0.        ,    1, 1.000e+00)\n",
      " (164, 165, 56, -3.51731971e-01, 0.91829583,    3, 3.000e+00)\n",
      " ( -1,  -1, -2, -2.00000000e+00, 0.        ,    2, 2.000e+00)\n",
      " ( -1,  -1, -2, -2.00000000e+00, 0.        ,    1, 1.000e+00)\n",
      " ( -1,  -1, -2, -2.00000000e+00, 0.        ,    2, 2.000e+00)\n",
      " ( -1,  -1, -2, -2.00000000e+00, 0.        ,   35, 3.500e+01)\n",
      " ( -1,  -1, -2, -2.00000000e+00, 0.        ,   47, 4.700e+01)\n",
      " ( -1,  -1, -2, -2.00000000e+00, 0.        ,    7, 7.000e+00)\n",
      " (171, 274, 52, -2.57367469e-01, 0.8507707 , 1128, 1.128e+03)\n",
      " (172, 271,  6,  3.60734597e-01, 0.99998036,  575, 5.750e+02)\n",
      " (173, 232, 54, -6.89571425e-02, 0.96604589,  472, 4.720e+02)\n",
      " (174, 221, 15,  3.44187647e-01, 0.78063647,  311, 3.110e+02)\n",
      " (175, 206, 51,  7.68855423e-01, 0.64293835,  275, 2.750e+02)\n",
      " (176, 181, 20, -3.01214933e-01, 0.46899559,  230, 2.300e+02)\n",
      " (177, 180, 49,  1.03813000e+01, 0.10740377,  141, 1.410e+02)\n",
      " (178, 179,  9,  6.93873286e+00, 0.06119152,  140, 1.400e+02)\n",
      " ( -1,  -1, -2, -2.00000000e+00, 0.        ,  139, 1.390e+02)\n",
      " ( -1,  -1, -2, -2.00000000e+00, 0.        ,    1, 1.000e+00)\n",
      " ( -1,  -1, -2, -2.00000000e+00, 0.        ,    1, 1.000e+00)\n",
      " (182, 193,  4, -2.84262024e-01, 0.78824872,   89, 8.900e+01)\n",
      " (183, 192, 12,  3.11750329e+00, 0.46377735,   61, 6.100e+01)\n",
      " (184, 185, 54, -9.86284912e-02, 0.35764671,   59, 5.900e+01)\n",
      " ( -1,  -1, -2, -2.00000000e+00, 0.        ,   39, 3.900e+01)\n",
      " (186, 187, 54, -9.49807912e-02, 0.72192809,   20, 2.000e+01)\n",
      " ( -1,  -1, -2, -2.00000000e+00, 0.        ,    2, 2.000e+00)\n",
      " (188, 191,  6, -4.12195623e-02, 0.50325833,   18, 1.800e+01)\n",
      " (189, 190, 51,  3.77042368e-01, 0.32275696,   17, 1.700e+01)\n",
      " ( -1,  -1, -2, -2.00000000e+00, 0.        ,   16, 1.600e+01)\n",
      " ( -1,  -1, -2, -2.00000000e+00, 0.        ,    1, 1.000e+00)\n",
      " ( -1,  -1, -2, -2.00000000e+00, 0.        ,    1, 1.000e+00)\n",
      " ( -1,  -1, -2, -2.00000000e+00, 0.        ,    2, 2.000e+00)\n",
      " (194, 203, 44,  2.02684423e-02, 0.99631652,   28, 2.800e+01)\n",
      " (195, 202, 12, -1.09395385e-01, 0.8812909 ,   20, 2.000e+01)\n",
      " (196, 201, 49, -8.22623633e-02, 0.99572745,   13, 1.300e+01)\n",
      " (197, 198, 11, -6.51927870e-02, 0.76420451,    9, 9.000e+00)\n",
      " ( -1,  -1, -2, -2.00000000e+00, 0.        ,    5, 5.000e+00)\n",
      " (199, 200, 51, -1.23765942e-01, 1.        ,    4, 4.000e+00)\n",
      " ( -1,  -1, -2, -2.00000000e+00, 0.        ,    2, 2.000e+00)\n",
      " ( -1,  -1, -2, -2.00000000e+00, 0.        ,    2, 2.000e+00)\n",
      " ( -1,  -1, -2, -2.00000000e+00, 0.        ,    4, 4.000e+00)\n",
      " ( -1,  -1, -2, -2.00000000e+00, 0.        ,    7, 7.000e+00)\n",
      " (204, 205, 19,  2.81057842e-01, 0.54356444,    8, 8.000e+00)\n",
      " ( -1,  -1, -2, -2.00000000e+00, 0.        ,    7, 7.000e+00)\n",
      " ( -1,  -1, -2, -2.00000000e+00, 0.        ,    1, 1.000e+00)\n",
      " (207, 212, 18,  1.18813351e-01, 0.99964375,   45, 4.500e+01)\n",
      " (208, 211,  4,  2.82470018e-01, 0.62924922,   19, 1.900e+01)\n",
      " (209, 210, 56, -4.62479398e-01, 0.32275696,   17, 1.700e+01)\n",
      " ( -1,  -1, -2, -2.00000000e+00, 0.        ,    1, 1.000e+00)\n",
      " ( -1,  -1, -2, -2.00000000e+00, 0.        ,   16, 1.600e+01)\n",
      " ( -1,  -1, -2, -2.00000000e+00, 0.        ,    2, 2.000e+00)\n",
      " (213, 218, 44,  3.14919814e-01, 0.84035867,   26, 2.600e+01)\n",
      " (214, 217, 26,  1.29586630e-01, 0.46899559,   20, 2.000e+01)\n",
      " (215, 216,  9,  2.58423671e+00, 0.29747225,   19, 1.900e+01)\n",
      " ( -1,  -1, -2, -2.00000000e+00, 0.        ,   18, 1.800e+01)\n",
      " ( -1,  -1, -2, -2.00000000e+00, 0.        ,    1, 1.000e+00)\n",
      " ( -1,  -1, -2, -2.00000000e+00, 0.        ,    1, 1.000e+00)\n",
      " (219, 220, 16,  9.89898935e-01, 0.65002242,    6, 6.000e+00)\n",
      " ( -1,  -1, -2, -2.00000000e+00, 0.        ,    5, 5.000e+00)\n",
      " ( -1,  -1, -2, -2.00000000e+00, 0.        ,    1, 1.000e+00)\n",
      " (222, 231, 51,  2.80157685e-01, 0.81127812,   36, 3.600e+01)\n",
      " (223, 230,  7,  1.65136814e-01, 1.        ,   18, 1.800e+01)\n",
      " (224, 229,  4,  6.90254569e-02, 0.94028596,   14, 1.400e+01)\n",
      " (225, 228, 54, -1.16495471e-01, 0.68403844,   11, 1.100e+01)\n",
      " (226, 227, 55, -3.53752971e-01, 0.91829583,    3, 3.000e+00)\n",
      " ( -1,  -1, -2, -2.00000000e+00, 0.        ,    2, 2.000e+00)\n",
      " ( -1,  -1, -2, -2.00000000e+00, 0.        ,    1, 1.000e+00)\n",
      " ( -1,  -1, -2, -2.00000000e+00, 0.        ,    8, 8.000e+00)\n",
      " ( -1,  -1, -2, -2.00000000e+00, 0.        ,    3, 3.000e+00)\n",
      " ( -1,  -1, -2, -2.00000000e+00, 0.        ,    4, 4.000e+00)\n",
      " ( -1,  -1, -2, -2.00000000e+00, 0.        ,   18, 1.800e+01)\n",
      " (233, 250, 51,  1.76861517e-01, 0.87900121,  161, 1.610e+02)\n",
      " (234, 245, 20,  1.96316622e-01, 0.97095059,   60, 6.000e+01)\n",
      " (235, 244, 11, -5.29204383e-01, 0.82805573,   46, 4.600e+01)\n",
      " (236, 243, 44, -1.08306702e-01, 0.99884554,   25, 2.500e+01)\n",
      " (237, 240, 18, -1.64265305e-01, 0.87398105,   17, 1.700e+01)\n",
      " (238, 239, 12,  9.88415524e-01, 0.43949699,   11, 1.100e+01)\n",
      " ( -1,  -1, -2, -2.00000000e+00, 0.        ,   10, 1.000e+01)\n",
      " ( -1,  -1, -2, -2.00000000e+00, 0.        ,    1, 1.000e+00)\n",
      " (241, 242,  4,  1.42627031e-01, 0.91829583,    6, 6.000e+00)\n",
      " ( -1,  -1, -2, -2.00000000e+00, 0.        ,    4, 4.000e+00)\n",
      " ( -1,  -1, -2, -2.00000000e+00, 0.        ,    2, 2.000e+00)\n",
      " ( -1,  -1, -2, -2.00000000e+00, 0.        ,    8, 8.000e+00)\n",
      " ( -1,  -1, -2, -2.00000000e+00, 0.        ,   21, 2.100e+01)\n",
      " (246, 247, 51,  2.51230104e-02, 0.59167278,   14, 1.400e+01)\n",
      " ( -1,  -1, -2, -2.00000000e+00, 0.        ,   11, 1.100e+01)\n",
      " (248, 249,  2,  7.34520555e-02, 0.91829583,    3, 3.000e+00)\n",
      " ( -1,  -1, -2, -2.00000000e+00, 0.        ,    1, 1.000e+00)\n",
      " ( -1,  -1, -2, -2.00000000e+00, 0.        ,    2, 2.000e+00)\n",
      " (251, 270, 38,  5.76970205e-01, 0.52593598,  101, 1.010e+02)\n",
      " (252, 263, 56, -3.18424478e-01, 0.44257106,   98, 9.800e+01)\n",
      " (253, 260, 55, -1.50182292e-01, 0.73353793,   34, 3.400e+01)\n",
      " (254, 259, 41,  1.70831136e+00, 0.47983202,   29, 2.900e+01)\n",
      " (255, 256, 56, -4.34168026e-01, 0.37123233,   28, 2.800e+01)\n",
      " ( -1,  -1, -2, -2.00000000e+00, 0.        ,    1, 1.000e+00)\n",
      " (257, 258, 44,  3.73850122e-01, 0.22853814,   27, 2.700e+01)\n",
      " ( -1,  -1, -2, -2.00000000e+00, 0.        ,   26, 2.600e+01)\n",
      " ( -1,  -1, -2, -2.00000000e+00, 0.        ,    1, 1.000e+00)\n",
      " ( -1,  -1, -2, -2.00000000e+00, 0.        ,    1, 1.000e+00)\n",
      " (261, 262, 15,  3.61162193e+00, 0.72192809,    5, 5.000e+00)\n",
      " ( -1,  -1, -2, -2.00000000e+00, 0.        ,    4, 4.000e+00)\n",
      " ( -1,  -1, -2, -2.00000000e+00, 0.        ,    1, 1.000e+00)\n",
      " (264, 265,  9, -1.13004893e-02, 0.20062232,   64, 6.400e+01)\n",
      " ( -1,  -1, -2, -2.00000000e+00, 0.        ,   46, 4.600e+01)\n",
      " (266, 267,  9,  1.53155036e-01, 0.50325833,   18, 1.800e+01)\n",
      " ( -1,  -1, -2, -2.00000000e+00, 0.        ,    1, 1.000e+00)\n",
      " (268, 269,  0,  1.82952470e+00, 0.32275696,   17, 1.700e+01)\n",
      " ( -1,  -1, -2, -2.00000000e+00, 0.        ,   16, 1.600e+01)\n",
      " ( -1,  -1, -2, -2.00000000e+00, 0.        ,    1, 1.000e+00)\n",
      " ( -1,  -1, -2, -2.00000000e+00, 0.        ,    3, 3.000e+00)\n",
      " (272, 273, 29,  1.13446378e+00, 0.13815723,  103, 1.030e+02)\n",
      " ( -1,  -1, -2, -2.00000000e+00, 0.        ,  101, 1.010e+02)\n",
      " ( -1,  -1, -2, -2.00000000e+00, 0.        ,    2, 2.000e+00)\n",
      " (275, 296, 54, -7.57459216e-02, 0.24954136,  553, 5.530e+02)\n",
      " (276, 283, 20, -3.36438388e-01, 0.64293835,  110, 1.100e+02)\n",
      " (277, 280, 15, -1.38568397e-01, 0.96407876,   18, 1.800e+01)\n",
      " (278, 279,  2,  2.00264436e+00, 0.43949699,   11, 1.100e+01)\n",
      " ( -1,  -1, -2, -2.00000000e+00, 0.        ,   10, 1.000e+01)\n",
      " ( -1,  -1, -2, -2.00000000e+00, 0.        ,    1, 1.000e+00)\n",
      " (281, 282, 55, -2.99744427e-01, 0.59167278,    7, 7.000e+00)\n",
      " ( -1,  -1, -2, -2.00000000e+00, 0.        ,    1, 1.000e+00)\n",
      " ( -1,  -1, -2, -2.00000000e+00, 0.        ,    6, 6.000e+00)\n",
      " (284, 295, 51,  1.59764215e-01, 0.38823898,   92, 9.200e+01)\n",
      " (285, 294, 18,  6.55029625e-01, 0.65002242,   42, 4.200e+01)\n",
      " (286, 287, 18, -1.77874856e-01, 0.85545081,   25, 2.500e+01)\n",
      " ( -1,  -1, -2, -2.00000000e+00, 0.        ,   10, 1.000e+01)\n",
      " (288, 293,  5,  6.05380461e-01, 0.99679163,   15, 1.500e+01)\n",
      " (289, 292, 51, -1.83606483e-01, 0.8812909 ,   10, 1.000e+01)\n",
      " (290, 291, 10,  8.12249154e-01, 0.81127812,    4, 4.000e+00)\n",
      " ( -1,  -1, -2, -2.00000000e+00, 0.        ,    1, 1.000e+00)\n",
      " ( -1,  -1, -2, -2.00000000e+00, 0.        ,    3, 3.000e+00)\n",
      " ( -1,  -1, -2, -2.00000000e+00, 0.        ,    6, 6.000e+00)\n",
      " ( -1,  -1, -2, -2.00000000e+00, 0.        ,    5, 5.000e+00)\n",
      " ( -1,  -1, -2, -2.00000000e+00, 0.        ,   17, 1.700e+01)\n",
      " ( -1,  -1, -2, -2.00000000e+00, 0.        ,   50, 5.000e+01)\n",
      " (297, 306, 24,  5.42740226e-01, 0.08920719,  443, 4.430e+02)\n",
      " (298, 303, 45, -1.01501867e-03, 0.05875816,  441, 4.410e+02)\n",
      " (299, 300, 15,  2.76974249e+00, 0.02336964,  437, 4.370e+02)\n",
      " ( -1,  -1, -2, -2.00000000e+00, 0.        ,  428, 4.280e+02)\n",
      " (301, 302, 20, -5.12555763e-01, 0.50325833,    9, 9.000e+00)\n",
      " ( -1,  -1, -2, -2.00000000e+00, 0.        ,    1, 1.000e+00)\n",
      " ( -1,  -1, -2, -2.00000000e+00, 0.        ,    8, 8.000e+00)\n",
      " (304, 305, 12,  9.02065933e-02, 1.        ,    4, 4.000e+00)\n",
      " ( -1,  -1, -2, -2.00000000e+00, 0.        ,    2, 2.000e+00)\n",
      " ( -1,  -1, -2, -2.00000000e+00, 0.        ,    2, 2.000e+00)\n",
      " ( -1,  -1, -2, -2.00000000e+00, 0.        ,    2, 2.000e+00)]\n"
     ]
    },
    {
     "data": {
      "text/plain": [
       "307"
      ]
     },
     "execution_count": 28,
     "metadata": {},
     "output_type": "execute_result"
    }
   ],
   "source": [
    "# structure of the decision tree classifier\n",
    "print(classifier.tree_.__getstate__()['nodes'])\n",
    "len(classifier.tree_.__getstate__()['nodes'])"
   ]
  },
  {
   "cell_type": "code",
   "execution_count": 29,
   "metadata": {},
   "outputs": [],
   "source": [
    "y_pred = classifier.predict(x_val_scaled)"
   ]
  },
  {
   "cell_type": "code",
   "execution_count": 30,
   "metadata": {},
   "outputs": [
    {
     "name": "stdout",
     "output_type": "stream",
     "text": [
      "[[517  39]\n",
      " [ 45 319]]\n"
     ]
    },
    {
     "data": {
      "image/png": "[encoded data removed]",
      "text/plain": [
       "<Figure size 432x288 with 2 Axes>"
      ]
     },
     "metadata": {
      "needs_background": "light"
     },
     "output_type": "display_data"
    }
   ],
   "source": [
    "conf_matrix = metrics.confusion_matrix(y_val,y_pred)\n",
    "sns.heatmap(conf_matrix, annot = True, fmt = \".3f\", square = True, cmap = plt.cm.Blues)\n",
    "plt.ylabel('Actual')\n",
    "plt.xlabel('Predicted')\n",
    "plt.title('Confusion matrix')\n",
    "plt.tight_layout()\n",
    "print(conf_matrix)"
   ]
  },
  {
   "cell_type": "code",
   "execution_count": 31,
   "metadata": {},
   "outputs": [
    {
     "name": "stdout",
     "output_type": "stream",
     "text": [
      "Accuracy =  0.908695652173913 \n",
      "Error =  0.09130434782608698 \n",
      "Precision = [0.91992883 0.89106145] \n",
      "Recall =  [0.92985612 0.87637363] \n",
      "F1 Score =  [0.92486583 0.88365651]\n"
     ]
    }
   ],
   "source": [
    "accuracy = metrics.accuracy_score(y_val,y_pred)\n",
    "error = 1 - accuracy\n",
    "precision = metrics.precision_score(y_val, y_pred, average = None)\n",
    "recall = metrics.recall_score(y_val, y_pred, average = None)\n",
    "F1_score = metrics.f1_score(y_val, y_pred, average = None)\n",
    "print(\"Accuracy = \",accuracy, \"\\nError = \",error, \"\\nPrecision =\",precision,\"\\nRecall = \", recall,\"\\nF1 Score = \", F1_score)"
   ]
  },
  {
   "cell_type": "markdown",
   "metadata": {},
   "source": [
    "#### Selecting best set of attributes"
   ]
  },
  {
   "cell_type": "code",
   "execution_count": 32,
   "metadata": {},
   "outputs": [
    {
     "data": {
      "text/plain": [
       "DecisionTreeClassifier(class_weight=None, criterion='entropy', max_depth=None,\n",
       "                       max_features=None, max_leaf_nodes=None,\n",
       "                       min_impurity_decrease=0.0, min_impurity_split=None,\n",
       "                       min_samples_leaf=1, min_samples_split=2,\n",
       "                       min_weight_fraction_leaf=0.0, presort=False,\n",
       "                       random_state=0, splitter='best')"
      ]
     },
     "execution_count": 32,
     "metadata": {},
     "output_type": "execute_result"
    }
   ],
   "source": [
    "cols = [0,1,2,4,5,6,7,8,9,10,11,12,15,16,17,20,22,23,24,36,44,49,51,52,56]\n",
    "classifier = DecisionTreeClassifier(criterion = \"entropy\", random_state = 0)\n",
    "classifier.fit(x_train_scaled.iloc[:,cols],y_train)"
   ]
  },
  {
   "cell_type": "code",
   "execution_count": 33,
   "metadata": {},
   "outputs": [
    {
     "name": "stdout",
     "output_type": "stream",
     "text": [
      "[(  1, 224, 22, -2.56982386e-01, 0.96232475, 2760, 2.760e+03)\n",
      " (  2, 197,  5, -1.83848463e-01, 0.61775685, 1632, 1.632e+03)\n",
      " (  3, 174, 23, -7.71169402e-02, 0.45238162, 1508, 1.508e+03)\n",
      " (  4, 135, 12, -1.73892006e-01, 0.35119077, 1407, 1.407e+03)\n",
      " (  5, 128, 18, -3.13460872e-01, 0.26208136, 1284, 1.284e+03)\n",
      " (  6,  49, 24, -4.20845032e-01, 0.35521609,  819, 8.190e+02)\n",
      " (  7,  44, 10,  6.19896388e+00, 0.13086919,  441, 4.410e+02)\n",
      " (  8,  43,  6,  1.98172393e+01, 0.10461243,  437, 4.370e+02)\n",
      " (  9,  10, 24, -4.49156404e-01, 0.09037439,  436, 4.360e+02)\n",
      " ( -1,  -1, -2, -2.00000000e+00, 0.        ,  248, 2.480e+02)\n",
      " ( 11,  42, 24, -4.34168026e-01, 0.17702124,  188, 1.880e+02)\n",
      " ( 12,  31, 24, -4.35833409e-01, 0.23382826,  131, 1.310e+02)\n",
      " ( 13,  30, 20, -1.99380763e-01, 0.16866093,  120, 1.200e+02)\n",
      " ( 14,  29, 21, -2.29925323e-01, 0.21639693,   87, 8.700e+01)\n",
      " ( 15,  26, 15,  7.37877488e-01, 0.25524211,   70, 7.000e+01)\n",
      " ( 16,  23, 10,  4.97421280e-01, 0.20818095,   61, 6.100e+01)\n",
      " ( 17,  22, 24, -4.47491035e-01, 0.13709948,   52, 5.200e+01)\n",
      " ( 18,  21, 15,  1.57963037e-02, 0.39124356,   13, 1.300e+01)\n",
      " ( 19,  20,  0,  4.06504637e+00, 0.41381685,   12, 1.200e+01)\n",
      " ( -1,  -1, -2, -2.00000000e+00, 0.43949699,   11, 1.100e+01)\n",
      " ( -1,  -1, -2, -2.00000000e+00, 0.        ,    1, 1.000e+00)\n",
      " ( -1,  -1, -2, -2.00000000e+00, 0.        ,    1, 1.000e+00)\n",
      " ( -1,  -1, -2, -2.00000000e+00, 0.        ,   39, 3.900e+01)\n",
      " ( 24,  25, 10,  7.06226498e-01, 0.50325833,    9, 9.000e+00)\n",
      " ( -1,  -1, -2, -2.00000000e+00, 0.        ,    1, 1.000e+00)\n",
      " ( -1,  -1, -2, -2.00000000e+00, 0.        ,    8, 8.000e+00)\n",
      " ( 27,  28, 15,  7.73100972e-01, 0.50325833,    9, 9.000e+00)\n",
      " ( -1,  -1, -2, -2.00000000e+00, 0.        ,    1, 1.000e+00)\n",
      " ( -1,  -1, -2, -2.00000000e+00, 0.        ,    8, 8.000e+00)\n",
      " ( -1,  -1, -2, -2.00000000e+00, 0.        ,   17, 1.700e+01)\n",
      " ( -1,  -1, -2, -2.00000000e+00, 0.        ,   33, 3.300e+01)\n",
      " ( 32,  41, 14,  4.94780496e-01, 0.68403844,   11, 1.100e+01)\n",
      " ( 33,  40,  3,  9.89044994e-01, 0.81127812,    8, 8.000e+00)\n",
      " ( 34,  39, 10,  3.06016475e-01, 0.91829583,    6, 6.000e+00)\n",
      " ( 35,  38, 21,  6.21187598e-01, 0.97095059,    5, 5.000e+00)\n",
      " ( 36,  37, 19,  2.46783260e+00, 0.81127812,    4, 4.000e+00)\n",
      " ( -1,  -1, -2, -2.00000000e+00, 0.91829583,    3, 3.000e+00)\n",
      " ( -1,  -1, -2, -2.00000000e+00, 0.        ,    1, 1.000e+00)\n",
      " ( -1,  -1, -2, -2.00000000e+00, 0.        ,    1, 1.000e+00)\n",
      " ( -1,  -1, -2, -2.00000000e+00, 0.        ,    1, 1.000e+00)\n",
      " ( -1,  -1, -2, -2.00000000e+00, 0.        ,    2, 2.000e+00)\n",
      " ( -1,  -1, -2, -2.00000000e+00, 0.        ,    3, 3.000e+00)\n",
      " ( -1,  -1, -2, -2.00000000e+00, 0.        ,   57, 5.700e+01)\n",
      " ( -1,  -1, -2, -2.00000000e+00, 0.        ,    1, 1.000e+00)\n",
      " ( 45,  46, 10,  6.51217151e+00, 1.        ,    4, 4.000e+00)\n",
      " ( -1,  -1, -2, -2.00000000e+00, 0.        ,    1, 1.000e+00)\n",
      " ( 47,  48, 24, -4.55817908e-01, 0.91829583,    3, 3.000e+00)\n",
      " ( -1,  -1, -2, -2.00000000e+00, 0.        ,    1, 1.000e+00)\n",
      " ( -1,  -1, -2, -2.00000000e+00, 0.        ,    2, 2.000e+00)\n",
      " ( 50, 123, 20, -2.74382934e-01, 0.54170484,  378, 3.780e+02)\n",
      " ( 51, 122,  4,  2.26851499e+00, 0.65002242,  276, 2.760e+02)\n",
      " ( 52, 121, 19,  3.78093362e-01, 0.59713746,  269, 2.690e+02)\n",
      " ( 53, 120, 17,  2.25176740e+00, 0.67766272,  218, 2.180e+02)\n",
      " ( 54, 115,  3,  1.87226373e+00, 0.65181925,  215, 2.150e+02)\n",
      " ( 55, 112,  6, -2.24598400e-01, 0.60742881,  208, 2.080e+02)\n",
      " ( 56,  81, 24, -3.14261049e-01, 0.56740006,  202, 2.020e+02)\n",
      " ( 57,  74, 24, -4.02525917e-01, 0.39602141,  115, 1.150e+02)\n",
      " ( 58,  73,  8,  7.10873768e-01, 0.81127812,   28, 2.800e+01)\n",
      " ( 59,  60, 24, -4.17514279e-01, 0.70627409,   26, 2.600e+01)\n",
      " ( -1,  -1, -2, -2.00000000e+00, 0.        ,    7, 7.000e+00)\n",
      " ( 61,  72,  0,  3.07467490e-01, 0.83147439,   19, 1.900e+01)\n",
      " ( 62,  71, 15,  8.08324456e-01, 0.94028596,   14, 1.400e+01)\n",
      " ( 63,  70, 24, -4.04191285e-01, 1.        ,   10, 1.000e+01)\n",
      " ( 64,  65, 15, -4.06885348e-01, 0.954434  ,    8, 8.000e+00)\n",
      " ( -1,  -1, -2, -2.00000000e+00, 0.        ,    3, 3.000e+00)\n",
      " ( 66,  67, 15,  1.03855006e-01, 0.97095059,    5, 5.000e+00)\n",
      " ( -1,  -1, -2, -2.00000000e+00, 0.        ,    2, 2.000e+00)\n",
      " ( 68,  69, 15,  6.41012952e-01, 0.91829583,    3, 3.000e+00)\n",
      " ( -1,  -1, -2, -2.00000000e+00, 0.        ,    2, 2.000e+00)\n",
      " ( -1,  -1, -2, -2.00000000e+00, 0.        ,    1, 1.000e+00)\n",
      " ( -1,  -1, -2, -2.00000000e+00, 0.        ,    2, 2.000e+00)\n",
      " ( -1,  -1, -2, -2.00000000e+00, 0.        ,    4, 4.000e+00)\n",
      " ( -1,  -1, -2, -2.00000000e+00, 0.        ,    5, 5.000e+00)\n",
      " ( -1,  -1, -2, -2.00000000e+00, 0.        ,    2, 2.000e+00)\n",
      " ( 75,  76, 15,  2.13928349e-01, 0.15790637,   87, 8.700e+01)\n",
      " ( -1,  -1, -2, -2.00000000e+00, 0.        ,   68, 6.800e+01)\n",
      " ( 77,  80, 15,  4.73701477e-01, 0.48546076,   19, 1.900e+01)\n",
      " ( 78,  79, 10,  1.20411843e-01, 1.        ,    4, 4.000e+00)\n",
      " ( -1,  -1, -2, -2.00000000e+00, 0.        ,    2, 2.000e+00)\n",
      " ( -1,  -1, -2, -2.00000000e+00, 0.        ,    2, 2.000e+00)\n",
      " ( -1,  -1, -2, -2.00000000e+00, 0.        ,   15, 1.500e+01)\n",
      " ( 82,  91, 24, -2.82618925e-01, 0.73550858,   87, 8.700e+01)\n",
      " ( 83,  90, 24, -2.94276550e-01, 0.99403021,   11, 1.100e+01)\n",
      " ( 84,  85, 24, -3.12595680e-01, 0.86312057,    7, 7.000e+00)\n",
      " ( -1,  -1, -2, -2.00000000e+00, 0.        ,    1, 1.000e+00)\n",
      " ( 86,  89, 21, -3.30418184e-01, 0.65002242,    6, 6.000e+00)\n",
      " ( 87,  88, 21, -4.80132014e-01, 1.        ,    2, 2.000e+00)\n",
      " ( -1,  -1, -2, -2.00000000e+00, 0.        ,    1, 1.000e+00)\n",
      " ( -1,  -1, -2, -2.00000000e+00, 0.        ,    1, 1.000e+00)\n",
      " ( -1,  -1, -2, -2.00000000e+00, 0.        ,    4, 4.000e+00)\n",
      " ( -1,  -1, -2, -2.00000000e+00, 0.        ,    4, 4.000e+00)\n",
      " ( 92,  93, 24, -2.04346307e-01, 0.62924922,   76, 7.600e+01)\n",
      " ( -1,  -1, -2, -2.00000000e+00, 0.        ,   20, 2.000e+01)\n",
      " ( 94, 111, 22, -3.11123818e-01, 0.74959526,   56, 5.600e+01)\n",
      " ( 95, 110, 22, -3.51729900e-01, 0.82805573,   46, 4.600e+01)\n",
      " ( 96, 101, 21, -5.10895133e-01, 0.70246655,   42, 4.200e+01)\n",
      " ( 97, 100,  3, -1.19362548e-02, 0.98522814,    7, 7.000e+00)\n",
      " ( 98,  99, 24,  2.16160815e-01, 0.81127812,    4, 4.000e+00)\n",
      " ( -1,  -1, -2, -2.00000000e+00, 0.        ,    3, 3.000e+00)\n",
      " ( -1,  -1, -2, -2.00000000e+00, 0.        ,    1, 1.000e+00)\n",
      " ( -1,  -1, -2, -2.00000000e+00, 0.        ,    3, 3.000e+00)\n",
      " (102, 109,  4,  6.56817615e-01, 0.51270914,   35, 3.500e+01)\n",
      " (103, 104, 10, -3.03919185e-02, 0.43055187,   34, 3.400e+01)\n",
      " ( -1,  -1, -2, -2.00000000e+00, 0.        ,   21, 2.100e+01)\n",
      " (105, 108, 10,  2.77015753e-01, 0.77934984,   13, 1.300e+01)\n",
      " (106, 107, 21,  3.73031788e-01, 0.97095059,    5, 5.000e+00)\n",
      " ( -1,  -1, -2, -2.00000000e+00, 0.        ,    3, 3.000e+00)\n",
      " ( -1,  -1, -2, -2.00000000e+00, 0.        ,    2, 2.000e+00)\n",
      " ( -1,  -1, -2, -2.00000000e+00, 0.        ,    8, 8.000e+00)\n",
      " ( -1,  -1, -2, -2.00000000e+00, 0.        ,    1, 1.000e+00)\n",
      " ( -1,  -1, -2, -2.00000000e+00, 0.        ,    4, 4.000e+00)\n",
      " ( -1,  -1, -2, -2.00000000e+00, 0.        ,   10, 1.000e+01)\n",
      " (113, 114,  8,  9.59531218e-02, 0.91829583,    6, 6.000e+00)\n",
      " ( -1,  -1, -2, -2.00000000e+00, 0.        ,    4, 4.000e+00)\n",
      " ( -1,  -1, -2, -2.00000000e+00, 0.        ,    2, 2.000e+00)\n",
      " (116, 119, 24, -3.92533660e-01, 0.86312057,    7, 7.000e+00)\n",
      " (117, 118, 10,  1.07743576e+00, 0.91829583,    3, 3.000e+00)\n",
      " ( -1,  -1, -2, -2.00000000e+00, 0.        ,    2, 2.000e+00)\n",
      " ( -1,  -1, -2, -2.00000000e+00, 0.        ,    1, 1.000e+00)\n",
      " ( -1,  -1, -2, -2.00000000e+00, 0.        ,    4, 4.000e+00)\n",
      " ( -1,  -1, -2, -2.00000000e+00, 0.        ,    3, 3.000e+00)\n",
      " ( -1,  -1, -2, -2.00000000e+00, 0.        ,   51, 5.100e+01)\n",
      " ( -1,  -1, -2, -2.00000000e+00, 0.        ,    7, 7.000e+00)\n",
      " (124, 125, 10,  1.86625552e+00, 0.07949044,  102, 1.020e+02)\n",
      " ( -1,  -1, -2, -2.00000000e+00, 0.        ,  100, 1.000e+02)\n",
      " (126, 127, 15,  9.50491130e-02, 1.        ,    2, 2.000e+00)\n",
      " ( -1,  -1, -2, -2.00000000e+00, 0.        ,    1, 1.000e+00)\n",
      " ( -1,  -1, -2, -2.00000000e+00, 0.        ,    1, 1.000e+00)\n",
      " (129, 130, 23, -1.35974258e-01, 0.0400029 ,  465, 4.650e+02)\n",
      " ( -1,  -1, -2, -2.00000000e+00, 0.        ,  449, 4.490e+02)\n",
      " (131, 132,  9, -4.79377806e-03, 0.54356444,   16, 1.600e+01)\n",
      " ( -1,  -1, -2, -2.00000000e+00, 0.        ,   13, 1.300e+01)\n",
      " (133, 134,  4, -2.51905359e-01, 0.91829583,    3, 3.000e+00)\n",
      " ( -1,  -1, -2, -2.00000000e+00, 0.        ,    1, 1.000e+00)\n",
      " ( -1,  -1, -2, -2.00000000e+00, 0.        ,    2, 2.000e+00)\n",
      " (136, 173, 18, -2.84437105e-01, 0.87216179,  123, 1.230e+02)\n",
      " (137, 160, 24, -2.65132487e-01, 0.97844933,   87, 8.700e+01)\n",
      " (138, 155, 15,  1.14735037e+00, 0.73001663,   49, 4.900e+01)\n",
      " (139, 154,  6,  5.85763276e+00, 0.52661707,   42, 4.200e+01)\n",
      " (140, 153,  7,  1.17594422e+00, 0.46121604,   41, 4.100e+01)\n",
      " (141, 152, 21, -3.16062048e-01, 0.38431154,   40, 4.000e+01)\n",
      " (142, 151, 21, -4.61674139e-01, 0.52936087,   25, 2.500e+01)\n",
      " (143, 144, 12,  1.36268520e+00, 0.41381685,   24, 2.400e+01)\n",
      " ( -1,  -1, -2, -2.00000000e+00, 0.        ,   10, 1.000e+01)\n",
      " (145, 146, 12,  1.38034701e+00, 0.59167278,   14, 1.400e+01)\n",
      " ( -1,  -1, -2, -2.00000000e+00, 0.        ,    1, 1.000e+00)\n",
      " (147, 148, 12,  1.01170540e+01, 0.39124356,   13, 1.300e+01)\n",
      " ( -1,  -1, -2, -2.00000000e+00, 0.        ,   10, 1.000e+01)\n",
      " (149, 150, 24, -4.54985201e-01, 0.91829583,    3, 3.000e+00)\n",
      " ( -1,  -1, -2, -2.00000000e+00, 0.        ,    2, 2.000e+00)\n",
      " ( -1,  -1, -2, -2.00000000e+00, 0.        ,    1, 1.000e+00)\n",
      " ( -1,  -1, -2, -2.00000000e+00, 0.        ,    1, 1.000e+00)\n",
      " ( -1,  -1, -2, -2.00000000e+00, 0.        ,   15, 1.500e+01)\n",
      " ( -1,  -1, -2, -2.00000000e+00, 0.        ,    1, 1.000e+00)\n",
      " ( -1,  -1, -2, -2.00000000e+00, 0.        ,    1, 1.000e+00)\n",
      " (156, 159,  3,  4.07592624e-01, 0.86312057,    7, 7.000e+00)\n",
      " (157, 158, 12,  4.28865767e+00, 0.91829583,    3, 3.000e+00)\n",
      " ( -1,  -1, -2, -2.00000000e+00, 0.        ,    2, 2.000e+00)\n",
      " ( -1,  -1, -2, -2.00000000e+00, 0.        ,    1, 1.000e+00)\n",
      " ( -1,  -1, -2, -2.00000000e+00, 0.        ,    4, 4.000e+00)\n",
      " (161, 170, 20, -1.40450489e-01, 0.89974376,   38, 3.800e+01)\n",
      " (162, 167, 19,  5.38842514e-01, 0.70883567,   31, 3.100e+01)\n",
      " (163, 166, 12, -1.38568386e-01, 0.39124356,   26, 2.600e+01)\n",
      " (164, 165, 15, -4.15691212e-01, 0.91829583,    6, 6.000e+00)\n",
      " ( -1,  -1, -2, -2.00000000e+00, 0.        ,    4, 4.000e+00)\n",
      " ( -1,  -1, -2, -2.00000000e+00, 0.        ,    2, 2.000e+00)\n",
      " ( -1,  -1, -2, -2.00000000e+00, 0.        ,   20, 2.000e+01)\n",
      " (168, 169,  2,  4.29911166e-02, 0.72192809,    5, 5.000e+00)\n",
      " ( -1,  -1, -2, -2.00000000e+00, 0.        ,    4, 4.000e+00)\n",
      " ( -1,  -1, -2, -2.00000000e+00, 0.        ,    1, 1.000e+00)\n",
      " (171, 172,  8,  3.24760802e-01, 0.59167278,    7, 7.000e+00)\n",
      " ( -1,  -1, -2, -2.00000000e+00, 0.        ,    6, 6.000e+00)\n",
      " ( -1,  -1, -2, -2.00000000e+00, 0.        ,    1, 1.000e+00)\n",
      " ( -1,  -1, -2, -2.00000000e+00, 0.        ,   36, 3.600e+01)\n",
      " (175, 196, 18, -2.23487198e-01, 0.99992929,  101, 1.010e+02)\n",
      " (176, 193, 17,  1.52036756e-01, 0.86312057,   70, 7.000e+01)\n",
      " (177, 192, 16, -3.51853892e-02, 0.99952569,   39, 3.900e+01)\n",
      " (178, 191, 23,  2.70756984e+00, 0.9744894 ,   32, 3.200e+01)\n",
      " (179, 180, 24, -3.52564678e-01, 0.90592822,   28, 2.800e+01)\n",
      " ( -1,  -1, -2, -2.00000000e+00, 0.        ,   11, 1.100e+01)\n",
      " (181, 190,  1,  1.92718685e-01, 0.99750255,   17, 1.700e+01)\n",
      " (182, 189, 19,  8.83305013e-01, 0.98522814,   14, 1.400e+01)\n",
      " (183, 186, 10,  3.87218505e-01, 0.97095059,   10, 1.000e+01)\n",
      " (184, 185,  8, -1.25704326e-01, 0.65002242,    6, 6.000e+00)\n",
      " ( -1,  -1, -2, -2.00000000e+00, 0.        ,    5, 5.000e+00)\n",
      " ( -1,  -1, -2, -2.00000000e+00, 0.        ,    1, 1.000e+00)\n",
      " (187, 188, 24, -1.28571764e-01, 0.81127812,    4, 4.000e+00)\n",
      " ( -1,  -1, -2, -2.00000000e+00, 0.        ,    3, 3.000e+00)\n",
      " ( -1,  -1, -2, -2.00000000e+00, 0.        ,    1, 1.000e+00)\n",
      " ( -1,  -1, -2, -2.00000000e+00, 0.        ,    4, 4.000e+00)\n",
      " ( -1,  -1, -2, -2.00000000e+00, 0.        ,    3, 3.000e+00)\n",
      " ( -1,  -1, -2, -2.00000000e+00, 0.        ,    4, 4.000e+00)\n",
      " ( -1,  -1, -2, -2.00000000e+00, 0.        ,    7, 7.000e+00)\n",
      " (194, 195,  0,  7.67255604e-01, 0.20559251,   31, 3.100e+01)\n",
      " ( -1,  -1, -2, -2.00000000e+00, 0.        ,   30, 3.000e+01)\n",
      " ( -1,  -1, -2, -2.00000000e+00, 0.        ,    1, 1.000e+00)\n",
      " ( -1,  -1, -2, -2.00000000e+00, 0.        ,   31, 3.100e+01)\n",
      " (198, 223, 13, -1.32601094e-01, 0.57658473,  124, 1.240e+02)\n",
      " (199, 222, 10,  1.08811561e-01, 0.76158779,   77, 7.700e+01)\n",
      " (200, 221,  8,  1.23284131e+00, 0.88561287,   56, 5.600e+01)\n",
      " (201, 216,  6,  2.35997774e-01, 0.78712659,   51, 5.100e+01)\n",
      " (202, 211, 18, -2.35096715e-01, 0.64094418,   43, 4.300e+01)\n",
      " (203, 210, 20,  8.72078776e-01, 0.41381685,   36, 3.600e+01)\n",
      " (204, 205, 15,  9.22800720e-01, 0.31599713,   35, 3.500e+01)\n",
      " ( -1,  -1, -2, -2.00000000e+00, 0.        ,   28, 2.800e+01)\n",
      " (206, 209,  1, -1.66493058e-02, 0.86312057,    7, 7.000e+00)\n",
      " (207, 208, 15,  1.13414156e+00, 0.65002242,    6, 6.000e+00)\n",
      " ( -1,  -1, -2, -2.00000000e+00, 0.        ,    1, 1.000e+00)\n",
      " ( -1,  -1, -2, -2.00000000e+00, 0.        ,    5, 5.000e+00)\n",
      " ( -1,  -1, -2, -2.00000000e+00, 0.        ,    1, 1.000e+00)\n",
      " ( -1,  -1, -2, -2.00000000e+00, 0.        ,    1, 1.000e+00)\n",
      " (212, 213, 22, -3.18247691e-01, 0.98522814,    7, 7.000e+00)\n",
      " ( -1,  -1, -2, -2.00000000e+00, 0.        ,    3, 3.000e+00)\n",
      " (214, 215,  9,  6.01399392e-01, 0.81127812,    4, 4.000e+00)\n",
      " ( -1,  -1, -2, -2.00000000e+00, 0.        ,    2, 2.000e+00)\n",
      " ( -1,  -1, -2, -2.00000000e+00, 1.        ,    2, 2.000e+00)\n",
      " (217, 220,  4,  5.67175448e-02, 0.954434  ,    8, 8.000e+00)\n",
      " (218, 219,  2, -3.82380337e-02, 0.81127812,    4, 4.000e+00)\n",
      " ( -1,  -1, -2, -2.00000000e+00, 0.        ,    1, 1.000e+00)\n",
      " ( -1,  -1, -2, -2.00000000e+00, 0.        ,    3, 3.000e+00)\n",
      " ( -1,  -1, -2, -2.00000000e+00, 0.        ,    4, 4.000e+00)\n",
      " ( -1,  -1, -2, -2.00000000e+00, 0.        ,    5, 5.000e+00)\n",
      " ( -1,  -1, -2, -2.00000000e+00, 0.        ,   21, 2.100e+01)\n",
      " ( -1,  -1, -2, -2.00000000e+00, 0.        ,   47, 4.700e+01)\n",
      " (225, 342, 23, -2.57367469e-01, 0.8507707 , 1128, 1.128e+03)\n",
      " (226, 335,  5,  3.60734597e-01, 0.99998036,  575, 5.750e+02)\n",
      " (227, 288, 22,  3.27887639e-01, 0.96604589,  472, 4.720e+02)\n",
      " (228, 275, 12,  5.20805717e-01, 0.75787846,  288, 2.880e+02)\n",
      " (229, 242, 15, -3.01214933e-01, 0.61715192,  255, 2.550e+02)\n",
      " (230, 241, 16,  2.94616520e-01, 0.2152603 ,  146, 1.460e+02)\n",
      " (231, 240,  8,  8.13282299e+00, 0.14609425,  144, 1.440e+02)\n",
      " (232, 237,  0,  5.60295820e+00, 0.10618784,  143, 1.430e+02)\n",
      " (233, 234,  3,  1.79427803e-01, 0.06155708,  139, 1.390e+02)\n",
      " ( -1,  -1, -2, -2.00000000e+00, 0.        ,  119, 1.190e+02)\n",
      " (235, 236,  3,  2.23588742e-01, 0.28639696,   20, 2.000e+01)\n",
      " ( -1,  -1, -2, -2.00000000e+00, 0.        ,    1, 1.000e+00)\n",
      " ( -1,  -1, -2, -2.00000000e+00, 0.        ,   19, 1.900e+01)\n",
      " (238, 239, 22, -2.26069409e-02, 0.81127812,    4, 4.000e+00)\n",
      " ( -1,  -1, -2, -2.00000000e+00, 0.        ,    3, 3.000e+00)\n",
      " ( -1,  -1, -2, -2.00000000e+00, 0.        ,    1, 1.000e+00)\n",
      " ( -1,  -1, -2, -2.00000000e+00, 0.        ,    1, 1.000e+00)\n",
      " ( -1,  -1, -2, -2.00000000e+00, 0.        ,    2, 2.000e+00)\n",
      " (243, 260,  3, -2.84262024e-01, 0.89538489,  109, 1.090e+02)\n",
      " (244, 245, 24, -3.98362473e-01, 0.5813215 ,   72, 7.200e+01)\n",
      " ( -1,  -1, -2, -2.00000000e+00, 0.        ,   25, 2.500e+01)\n",
      " (246, 259, 18, -1.91561053e-01, 0.74673661,   47, 4.700e+01)\n",
      " (247, 258, 20, -2.79740229e-01, 0.88496364,   33, 3.300e+01)\n",
      " (248, 257, 24,  4.29618433e-02, 0.97986876,   24, 2.400e+01)\n",
      " (249, 252, 22,  5.50432783e-02, 0.8812909 ,   20, 2.000e+01)\n",
      " (250, 251,  9,  1.99827927e+00, 0.39124356,   13, 1.300e+01)\n",
      " ( -1,  -1, -2, -2.00000000e+00, 0.        ,   12, 1.200e+01)\n",
      " ( -1,  -1, -2, -2.00000000e+00, 0.        ,    1, 1.000e+00)\n",
      " (253, 254, 15, -2.04350375e-01, 0.86312057,    7, 7.000e+00)\n",
      " ( -1,  -1, -2, -2.00000000e+00, 0.        ,    1, 1.000e+00)\n",
      " (255, 256, 15,  1.58324081e+00, 0.65002242,    6, 6.000e+00)\n",
      " ( -1,  -1, -2, -2.00000000e+00, 0.        ,    5, 5.000e+00)\n",
      " ( -1,  -1, -2, -2.00000000e+00, 0.        ,    1, 1.000e+00)\n",
      " ( -1,  -1, -2, -2.00000000e+00, 0.        ,    4, 4.000e+00)\n",
      " ( -1,  -1, -2, -2.00000000e+00, 0.        ,    9, 9.000e+00)\n",
      " ( -1,  -1, -2, -2.00000000e+00, 0.        ,   14, 1.400e+01)\n",
      " (261, 272, 20,  7.38414191e-02, 0.93526914,   37, 3.700e+01)\n",
      " (262, 267, 21, -8.22623633e-02, 0.78377695,   30, 3.000e+01)\n",
      " (263, 264, 10, -6.51927870e-02, 0.45371634,   21, 2.100e+01)\n",
      " ( -1,  -1, -2, -2.00000000e+00, 0.        ,   15, 1.500e+01)\n",
      " (265, 266, 22, -1.40863240e-01, 0.91829583,    6, 6.000e+00)\n",
      " ( -1,  -1, -2, -2.00000000e+00, 0.        ,    2, 2.000e+00)\n",
      " ( -1,  -1, -2, -2.00000000e+00, 0.        ,    4, 4.000e+00)\n",
      " (268, 271, 11, -5.94948903e-02, 0.99107606,    9, 9.000e+00)\n",
      " (269, 270, 22, -1.93579905e-01, 0.65002242,    6, 6.000e+00)\n",
      " ( -1,  -1, -2, -2.00000000e+00, 0.        ,    1, 1.000e+00)\n",
      " ( -1,  -1, -2, -2.00000000e+00, 0.        ,    5, 5.000e+00)\n",
      " ( -1,  -1, -2, -2.00000000e+00, 0.        ,    3, 3.000e+00)\n",
      " (273, 274, 24, -3.95864412e-01, 0.59167278,    7, 7.000e+00)\n",
      " ( -1,  -1, -2, -2.00000000e+00, 0.        ,    1, 1.000e+00)\n",
      " ( -1,  -1, -2, -2.00000000e+00, 0.        ,    6, 6.000e+00)\n",
      " (276, 287, 15, -1.50242141e-02, 0.84535094,   33, 3.300e+01)\n",
      " (277, 286, 14,  2.66133495e-01, 0.99800088,   19, 1.900e+01)\n",
      " (278, 285,  8,  1.13988823e+00, 0.86312057,   14, 1.400e+01)\n",
      " (279, 284, 24, -4.25841153e-01, 0.65002242,   12, 1.200e+01)\n",
      " (280, 281, 24, -4.37498778e-01, 1.        ,    4, 4.000e+00)\n",
      " ( -1,  -1, -2, -2.00000000e+00, 0.        ,    1, 1.000e+00)\n",
      " (282, 283,  2,  2.11433440e+00, 0.91829583,    3, 3.000e+00)\n",
      " ( -1,  -1, -2, -2.00000000e+00, 0.        ,    2, 2.000e+00)\n",
      " ( -1,  -1, -2, -2.00000000e+00, 0.        ,    1, 1.000e+00)\n",
      " ( -1,  -1, -2, -2.00000000e+00, 0.        ,    8, 8.000e+00)\n",
      " ( -1,  -1, -2, -2.00000000e+00, 0.        ,    2, 2.000e+00)\n",
      " ( -1,  -1, -2, -2.00000000e+00, 0.        ,    5, 5.000e+00)\n",
      " ( -1,  -1, -2, -2.00000000e+00, 0.        ,   14, 1.400e+01)\n",
      " (289, 306, 24, -4.29171905e-01, 0.92187649,  184, 1.840e+02)\n",
      " (290, 305, 12,  1.33324887e+00, 0.65819127,   47, 4.700e+01)\n",
      " (291, 300, 22,  3.12115836e+00, 0.51078782,   44, 4.400e+01)\n",
      " (292, 299,  9,  2.94710341e+00, 0.29747225,   38, 3.800e+01)\n",
      " (293, 298, 24, -4.47491035e-01, 0.17925607,   37, 3.700e+01)\n",
      " (294, 295, 24, -4.49156404e-01, 0.41381685,   12, 1.200e+01)\n",
      " ( -1,  -1, -2, -2.00000000e+00, 0.        ,   10, 1.000e+01)\n",
      " (296, 297, 22,  7.06165314e-01, 1.        ,    2, 2.000e+00)\n",
      " ( -1,  -1, -2, -2.00000000e+00, 0.        ,    1, 1.000e+00)\n",
      " ( -1,  -1, -2, -2.00000000e+00, 0.        ,    1, 1.000e+00)\n",
      " ( -1,  -1, -2, -2.00000000e+00, 0.        ,   25, 2.500e+01)\n",
      " ( -1,  -1, -2, -2.00000000e+00, 0.        ,    1, 1.000e+00)\n",
      " (301, 304, 24, -4.47491035e-01, 1.        ,    6, 6.000e+00)\n",
      " (302, 303, 24, -4.61646706e-01, 0.81127812,    4, 4.000e+00)\n",
      " ( -1,  -1, -2, -2.00000000e+00, 0.        ,    1, 1.000e+00)\n",
      " ( -1,  -1, -2, -2.00000000e+00, 0.        ,    3, 3.000e+00)\n",
      " ( -1,  -1, -2, -2.00000000e+00, 0.        ,    2, 2.000e+00)\n",
      " ( -1,  -1, -2, -2.00000000e+00, 0.        ,    3, 3.000e+00)\n",
      " (307, 326, 24, -3.27584043e-01, 0.65283948,  137, 1.370e+02)\n",
      " (308, 325, 12,  4.03060347e-01, 0.91829583,   57, 5.700e+01)\n",
      " (309, 322, 20,  2.77418733e-01, 0.98654463,   44, 4.400e+01)\n",
      " (310, 311, 22,  3.90577734e-01, 0.90817835,   34, 3.400e+01)\n",
      " ( -1,  -1, -2, -2.00000000e+00, 0.        ,    4, 4.000e+00)\n",
      " (312, 321, 18,  8.70293379e-03, 0.78377695,   30, 3.000e+01)\n",
      " (313, 320, 22,  8.55054259e-01, 0.67694187,   28, 2.800e+01)\n",
      " (314, 319,  2,  2.37655640e-03, 0.94028596,   14, 1.400e+01)\n",
      " (315, 318,  3,  1.01442039e-02, 0.68403844,   11, 1.100e+01)\n",
      " (316, 317, 22,  8.01625222e-01, 0.46899559,   10, 1.000e+01)\n",
      " ( -1,  -1, -2, -2.00000000e+00, 0.        ,    9, 9.000e+00)\n",
      " ( -1,  -1, -2, -2.00000000e+00, 0.        ,    1, 1.000e+00)\n",
      " ( -1,  -1, -2, -2.00000000e+00, 0.        ,    1, 1.000e+00)\n",
      " ( -1,  -1, -2, -2.00000000e+00, 0.        ,    3, 3.000e+00)\n",
      " ( -1,  -1, -2, -2.00000000e+00, 0.        ,   14, 1.400e+01)\n",
      " ( -1,  -1, -2, -2.00000000e+00, 0.        ,    2, 2.000e+00)\n",
      " (323, 324, 13,  8.02815571e-01, 0.72192809,   10, 1.000e+01)\n",
      " ( -1,  -1, -2, -2.00000000e+00, 0.        ,    8, 8.000e+00)\n",
      " ( -1,  -1, -2, -2.00000000e+00, 0.        ,    2, 2.000e+00)\n",
      " ( -1,  -1, -2, -2.00000000e+00, 0.        ,   13, 1.300e+01)\n",
      " (327, 328,  2,  7.23285228e-01, 0.28639696,   80, 8.000e+01)\n",
      " ( -1,  -1, -2, -2.00000000e+00, 0.        ,   49, 4.900e+01)\n",
      " (329, 330, 22,  4.36882898e-01, 0.55477816,   31, 3.100e+01)\n",
      " ( -1,  -1, -2, -2.00000000e+00, 0.        ,    2, 2.000e+00)\n",
      " (331, 334,  0,  1.82952470e+00, 0.36205125,   29, 2.900e+01)\n",
      " (332, 333, 18, -1.36415899e-01, 0.22228483,   28, 2.800e+01)\n",
      " ( -1,  -1, -2, -2.00000000e+00, 0.        ,   27, 2.700e+01)\n",
      " ( -1,  -1, -2, -2.00000000e+00, 0.        ,    1, 1.000e+00)\n",
      " ( -1,  -1, -2, -2.00000000e+00, 0.        ,    1, 1.000e+00)\n",
      " (336, 337, 10,  7.93228656e-01, 0.13815723,  103, 1.030e+02)\n",
      " ( -1,  -1, -2, -2.00000000e+00, 0.        ,   94, 9.400e+01)\n",
      " (338, 341, 15, -4.14418280e-02, 0.76420451,    9, 9.000e+00)\n",
      " (339, 340, 22,  1.00323081e+00, 0.91829583,    3, 3.000e+00)\n",
      " ( -1,  -1, -2, -2.00000000e+00, 0.        ,    2, 2.000e+00)\n",
      " ( -1,  -1, -2, -2.00000000e+00, 0.        ,    1, 1.000e+00)\n",
      " ( -1,  -1, -2, -2.00000000e+00, 0.        ,    6, 6.000e+00)\n",
      " (343, 376, 18, -2.90658325e-03, 0.24954136,  553, 5.530e+02)\n",
      " (344, 375, 24,  1.76191822e-01, 0.20033818,  545, 5.450e+02)\n",
      " (345, 368, 22,  1.57627054e-01, 0.32439445,  287, 2.870e+02)\n",
      " (346, 361, 11,  4.22876552e-01, 0.54065723,  121, 1.210e+02)\n",
      " (347, 360, 10,  1.72613151e-01, 0.35335934,  105, 1.050e+02)\n",
      " (348, 357, 22,  1.09897107e-01, 0.47357292,   69, 6.900e+01)\n",
      " (349, 354,  8,  1.99791700e+00, 0.34115389,   63, 6.300e+01)\n",
      " (350, 351,  7, -3.60748097e-02, 0.2108423 ,   60, 6.000e+01)\n",
      " ( -1,  -1, -2, -2.00000000e+00, 0.        ,   54, 5.400e+01)\n",
      " (352, 353,  7,  8.14147532e-01, 0.91829583,    6, 6.000e+00)\n",
      " ( -1,  -1, -2, -2.00000000e+00, 0.        ,    2, 2.000e+00)\n",
      " ( -1,  -1, -2, -2.00000000e+00, 0.        ,    4, 4.000e+00)\n",
      " (355, 356, 15,  8.91980171e-01, 0.91829583,    3, 3.000e+00)\n",
      " ( -1,  -1, -2, -2.00000000e+00, 0.        ,    2, 2.000e+00)\n",
      " ( -1,  -1, -2, -2.00000000e+00, 0.        ,    1, 1.000e+00)\n",
      " (358, 359, 12, -1.62117472e-01, 1.        ,    6, 6.000e+00)\n",
      " ( -1,  -1, -2, -2.00000000e+00, 0.        ,    3, 3.000e+00)\n",
      " ( -1,  -1, -2, -2.00000000e+00, 0.        ,    3, 3.000e+00)\n",
      " ( -1,  -1, -2, -2.00000000e+00, 0.        ,   36, 3.600e+01)\n",
      " (362, 367,  3,  2.38309059e-01, 1.        ,   16, 1.600e+01)\n",
      " (363, 364,  6, -1.41927291e-01, 0.72192809,   10, 1.000e+01)\n",
      " ( -1,  -1, -2, -2.00000000e+00, 0.        ,    7, 7.000e+00)\n",
      " (365, 366,  1,  7.54726140e-02, 0.91829583,    3, 3.000e+00)\n",
      " ( -1,  -1, -2, -2.00000000e+00, 0.        ,    2, 2.000e+00)\n",
      " ( -1,  -1, -2, -2.00000000e+00, 0.        ,    1, 1.000e+00)\n",
      " ( -1,  -1, -2, -2.00000000e+00, 0.        ,    6, 6.000e+00)\n",
      " (369, 374, 10,  3.03788471e+00, 0.09408444,  166, 1.660e+02)\n",
      " (370, 371, 12,  2.67554617e+00, 0.05336143,  165, 1.650e+02)\n",
      " ( -1,  -1, -2, -2.00000000e+00, 0.        ,  157, 1.570e+02)\n",
      " (372, 373, 15, -2.92409066e-01, 0.54356444,    8, 8.000e+00)\n",
      " ( -1,  -1, -2, -2.00000000e+00, 0.        ,    1, 1.000e+00)\n",
      " ( -1,  -1, -2, -2.00000000e+00, 0.        ,    7, 7.000e+00)\n",
      " ( -1,  -1, -2, -2.00000000e+00, 0.        ,    1, 1.000e+00)\n",
      " ( -1,  -1, -2, -2.00000000e+00, 0.        ,  258, 2.580e+02)\n",
      " (377, 378, 14,  8.56804922e-01, 0.81127812,    8, 8.000e+00)\n",
      " ( -1,  -1, -2, -2.00000000e+00, 0.        ,    6, 6.000e+00)\n",
      " ( -1,  -1, -2, -2.00000000e+00, 0.        ,    2, 2.000e+00)]\n"
     ]
    },
    {
     "data": {
      "text/plain": [
       "379"
      ]
     },
     "execution_count": 33,
     "metadata": {},
     "output_type": "execute_result"
    }
   ],
   "source": [
    "# structure of the decision tree classifier\n",
    "print(classifier.tree_.__getstate__()['nodes'])\n",
    "len(classifier.tree_.__getstate__()['nodes'])"
   ]
  },
  {
   "cell_type": "code",
   "execution_count": 34,
   "metadata": {},
   "outputs": [],
   "source": [
    "y_pred = classifier.predict(x_val_scaled.iloc[:,cols])"
   ]
  },
  {
   "cell_type": "code",
   "execution_count": 35,
   "metadata": {},
   "outputs": [
    {
     "name": "stdout",
     "output_type": "stream",
     "text": [
      "Accuracy =  0.9163043478260869 \n",
      "Error =  0.08369565217391306 \n",
      "Precision = [0.93466425 0.88888889] \n",
      "Recall =  [0.92625899 0.9010989 ] \n",
      "F1 Score =  [0.93044264 0.89495225]\n"
     ]
    }
   ],
   "source": [
    "accuracy = metrics.accuracy_score(y_val,y_pred)\n",
    "error = 1 - accuracy\n",
    "precision = metrics.precision_score(y_val, y_pred, average = None)\n",
    "recall = metrics.recall_score(y_val, y_pred, average = None)\n",
    "F1_score = metrics.f1_score(y_val, y_pred, average = None)\n",
    "print(\"Accuracy = \",accuracy, \"\\nError = \",error, \"\\nPrecision =\",precision,\"\\nRecall = \", recall,\"\\nF1 Score = \", F1_score)"
   ]
  },
  {
   "cell_type": "code",
   "execution_count": 36,
   "metadata": {},
   "outputs": [
    {
     "name": "stdout",
     "output_type": "stream",
     "text": [
      "[[515  41]\n",
      " [ 36 328]]\n"
     ]
    },
    {
     "data": {
      "image/png": "[encoded data removed]",
      "text/plain": [
       "<Figure size 432x288 with 2 Axes>"
      ]
     },
     "metadata": {
      "needs_background": "light"
     },
     "output_type": "display_data"
    }
   ],
   "source": [
    "conf_matrix = metrics.confusion_matrix(y_val,y_pred)\n",
    "sns.heatmap(conf_matrix, annot = True, fmt = \".3f\", square = True, cmap = plt.cm.Blues)\n",
    "plt.ylabel('Actual')\n",
    "plt.xlabel('Predicted')\n",
    "plt.title('Confusion matrix')\n",
    "plt.tight_layout()\n",
    "print(conf_matrix)"
   ]
  },
  {
   "cell_type": "code",
   "execution_count": 37,
   "metadata": {},
   "outputs": [
    {
     "name": "stdout",
     "output_type": "stream",
     "text": [
      "Accuracy =  0.9163043478260869 \n",
      "Error =  0.08369565217391306 \n",
      "Precision = [0.93466425 0.88888889] \n",
      "Recall =  [0.92625899 0.9010989 ] \n",
      "F1 Score =  [0.93044264 0.89495225]\n"
     ]
    }
   ],
   "source": [
    "accuracy = metrics.accuracy_score(y_val,y_pred)\n",
    "error = 1 - accuracy\n",
    "precision = metrics.precision_score(y_val, y_pred, average = None)\n",
    "recall = metrics.recall_score(y_val, y_pred, average = None)\n",
    "F1_score = metrics.f1_score(y_val, y_pred, average = None)\n",
    "print(\"Accuracy = \",accuracy, \"\\nError = \",error, \"\\nPrecision =\",precision,\"\\nRecall = \", recall,\"\\nF1 Score = \", F1_score)"
   ]
  },
  {
   "cell_type": "markdown",
   "metadata": {},
   "source": [
    "### k Nearest Neighbors"
   ]
  },
  {
   "cell_type": "code",
   "execution_count": 38,
   "metadata": {},
   "outputs": [
    {
     "data": {
      "text/plain": [
       "KNeighborsClassifier(algorithm='auto', leaf_size=30, metric='minkowski',\n",
       "                     metric_params=None, n_jobs=None, n_neighbors=3, p=2,\n",
       "                     weights='distance')"
      ]
     },
     "execution_count": 38,
     "metadata": {},
     "output_type": "execute_result"
    }
   ],
   "source": [
    "classifier = KNeighborsClassifier(n_neighbors = 3, weights='distance')  \n",
    "classifier.fit(x_train_scaled,y_train)"
   ]
  },
  {
   "cell_type": "code",
   "execution_count": 39,
   "metadata": {},
   "outputs": [],
   "source": [
    "y_pred = classifier.predict(x_val_scaled)"
   ]
  },
  {
   "cell_type": "code",
   "execution_count": 40,
   "metadata": {},
   "outputs": [
    {
     "name": "stdout",
     "output_type": "stream",
     "text": [
      "[[530  26]\n",
      " [ 48 316]]\n"
     ]
    },
    {
     "data": {
      "image/png": "[encoded data removed]",
      "text/plain": [
       "<Figure size 432x288 with 2 Axes>"
      ]
     },
     "metadata": {
      "needs_background": "light"
     },
     "output_type": "display_data"
    }
   ],
   "source": [
    "conf_matrix = metrics.confusion_matrix(y_val,y_pred)\n",
    "sns.heatmap(conf_matrix, annot = True, fmt = \".3f\", square = True, cmap = plt.cm.Blues)\n",
    "plt.ylabel('Actual')\n",
    "plt.xlabel('Predicted')\n",
    "plt.title('Confusion matrix')\n",
    "plt.tight_layout()\n",
    "print(conf_matrix)"
   ]
  },
  {
   "cell_type": "code",
   "execution_count": 41,
   "metadata": {},
   "outputs": [
    {
     "name": "stdout",
     "output_type": "stream",
     "text": [
      "Accuracy =  0.9195652173913044 \n",
      "Error =  0.08043478260869563 \n",
      "Precision = [0.91695502 0.92397661] \n",
      "Recall =  [0.95323741 0.86813187] \n",
      "F1 Score =  [0.93474427 0.89518414]\n"
     ]
    }
   ],
   "source": [
    "accuracy = metrics.accuracy_score(y_val,y_pred)\n",
    "error = 1 - accuracy\n",
    "precision = metrics.precision_score(y_val, y_pred, average = None)\n",
    "recall = metrics.recall_score(y_val, y_pred, average = None)\n",
    "F1_score = metrics.f1_score(y_val, y_pred, average = None)\n",
    "print(\"Accuracy = \",accuracy, \"\\nError = \",error, \"\\nPrecision =\",precision,\"\\nRecall = \", recall,\"\\nF1 Score = \", F1_score)"
   ]
  },
  {
   "cell_type": "markdown",
   "metadata": {},
   "source": [
    "#### Selecting best set of attributes"
   ]
  },
  {
   "cell_type": "code",
   "execution_count": 42,
   "metadata": {},
   "outputs": [
    {
     "data": {
      "text/plain": [
       "KNeighborsClassifier(algorithm='auto', leaf_size=30, metric='minkowski',\n",
       "                     metric_params=None, n_jobs=None, n_neighbors=5, p=2,\n",
       "                     weights='distance')"
      ]
     },
     "execution_count": 42,
     "metadata": {},
     "output_type": "execute_result"
    }
   ],
   "source": [
    "cols = [0,1,2,5,6,8,11,16,18,20,22,23,24,49,51,56]\n",
    "classifier = KNeighborsClassifier(n_neighbors = 5, weights='distance')  \n",
    "classifier.fit(x_train_scaled.iloc[:,cols],y_train)"
   ]
  },
  {
   "cell_type": "code",
   "execution_count": 43,
   "metadata": {},
   "outputs": [
    {
     "name": "stdout",
     "output_type": "stream",
     "text": [
      "[1, 0.8858695652173914, 0.11413043478260865, array([0.90196078, 0.86072423]), array([0.91007194, 0.8489011 ]), array([0.90599821, 0.85477178])]\n",
      "[2, 0.8858695652173914, 0.11413043478260865, array([0.90196078, 0.86072423]), array([0.91007194, 0.8489011 ]), array([0.90599821, 0.85477178])]\n",
      "[3, 0.9141304347826087, 0.08586956521739131, array([0.91478261, 0.91304348]), array([0.94604317, 0.86538462]), array([0.93015031, 0.88857546])]\n",
      "[4, 0.9130434782608695, 0.08695652173913049, array([0.90893471, 0.92011834]), array([0.95143885, 0.8543956 ]), array([0.92970123, 0.88603989])]\n",
      "[5, 0.9163043478260869, 0.08369565217391306, array([0.90940171, 0.92835821]), array([0.95683453, 0.8543956 ]), array([0.93251534, 0.88984263])]\n",
      "[6, 0.9152173913043479, 0.08478260869565213, array([0.90508475, 0.93333333]), array([0.96043165, 0.84615385]), array([0.93193717, 0.88760807])]\n",
      "[7, 0.9108695652173913, 0.08913043478260874, array([0.90033784, 0.92987805]), array([0.95863309, 0.83791209]), array([0.92857143, 0.88150289])]\n",
      "[8, 0.9097826086956522, 0.0902173913043478, array([0.89747899, 0.93230769]), array([0.96043165, 0.83241758]), array([0.92788879, 0.87953556])]\n",
      "[9, 0.907608695652174, 0.09239130434782605, array([0.89579832, 0.92923077]), array([0.95863309, 0.82967033]), array([0.92615117, 0.8766328 ])]\n",
      "[10, 0.9108695652173913, 0.08913043478260874, array([0.895   , 0.940625]), array([0.96582734, 0.82692308]), array([0.92906574, 0.88011696])]\n",
      "[11, 0.9108695652173913, 0.08913043478260874, array([0.895   , 0.940625]), array([0.96582734, 0.82692308]), array([0.92906574, 0.88011696])]\n",
      "[12, 0.9065217391304348, 0.09347826086956523, array([0.89166667, 0.934375  ]), array([0.96223022, 0.82142857]), array([0.92560554, 0.87426901])]\n",
      "[13, 0.907608695652174, 0.09239130434782605, array([0.89315526, 0.93457944]), array([0.96223022, 0.82417582]), array([0.92640693, 0.87591241])]\n",
      "[14, 0.9043478260869565, 0.09565217391304348, array([0.88741722, 0.93670886]), array([0.96402878, 0.81318681]), array([0.92413793, 0.87058824])]\n",
      "[15, 0.9065217391304348, 0.09347826086956523, array([0.89166667, 0.934375  ]), array([0.96223022, 0.82142857]), array([0.92560554, 0.87426901])]\n",
      "[16, 0.9032608695652173, 0.09673913043478266, array([0.88723051, 0.93375394]), array([0.96223022, 0.81318681]), array([0.92320966, 0.86930984])]\n",
      "[17, 0.907608695652174, 0.09239130434782605, array([0.89184692, 0.93730408]), array([0.96402878, 0.82142857]), array([0.92653414, 0.87554905])]\n",
      "[18, 0.9097826086956522, 0.0902173913043478, array([0.89351082, 0.94043887]), array([0.96582734, 0.82417582]), array([0.92826275, 0.87847731])]\n",
      "[19, 0.9032608695652173, 0.09673913043478266, array([0.88851913, 0.93103448]), array([0.96043165, 0.81593407]), array([0.92307692, 0.86969253])]\n"
     ]
    }
   ],
   "source": [
    "#selecting optimal value of K\n",
    "cols = [0,1,2,5,6,8,11,16,18,20,22,23,24,49,51,56]\n",
    "for i in range(1,20):\n",
    "    classifier = KNeighborsClassifier(n_neighbors = i,weights='distance')  \n",
    "    classifier.fit(x_train_scaled.iloc[:,cols],y_train)\n",
    "    y_pred = classifier.predict(x_val_scaled.iloc[:,cols])\n",
    "    accuracy = metrics.accuracy_score(y_val,y_pred)\n",
    "    error = 1 - accuracy\n",
    "    precision = metrics.precision_score(y_val, y_pred, average = None)\n",
    "    recall = metrics.recall_score(y_val, y_pred, average = None)\n",
    "    F1_score = metrics.f1_score(y_val, y_pred, average = None)\n",
    "    print([i,accuracy, error, precision, recall, F1_score])"
   ]
  },
  {
   "cell_type": "code",
   "execution_count": 44,
   "metadata": {},
   "outputs": [],
   "source": [
    "# k=5 is most optimal"
   ]
  },
  {
   "cell_type": "code",
   "execution_count": 45,
   "metadata": {},
   "outputs": [],
   "source": [
    "y_pred = classifier.predict(x_val_scaled.iloc[:,cols])"
   ]
  },
  {
   "cell_type": "code",
   "execution_count": 46,
   "metadata": {},
   "outputs": [
    {
     "name": "stdout",
     "output_type": "stream",
     "text": [
      "Accuracy =  0.9032608695652173 \n",
      "Error =  0.09673913043478266 \n",
      "Precision = [0.88851913 0.93103448] \n",
      "Recall =  [0.96043165 0.81593407] \n",
      "F1 Score =  [0.92307692 0.86969253]\n"
     ]
    }
   ],
   "source": [
    "accuracy = metrics.accuracy_score(y_val,y_pred)\n",
    "error = 1 - accuracy\n",
    "precision = metrics.precision_score(y_val, y_pred, average = None)\n",
    "recall = metrics.recall_score(y_val, y_pred, average = None)\n",
    "F1_score = metrics.f1_score(y_val, y_pred, average = None)\n",
    "print(\"Accuracy = \",accuracy, \"\\nError = \",error, \"\\nPrecision =\",precision,\"\\nRecall = \", recall,\"\\nF1 Score = \", F1_score)"
   ]
  },
  {
   "cell_type": "code",
   "execution_count": 47,
   "metadata": {},
   "outputs": [
    {
     "name": "stdout",
     "output_type": "stream",
     "text": [
      "[[534  22]\n",
      " [ 67 297]]\n"
     ]
    },
    {
     "data": {
      "image/png": "[encoded data removed]",
      "text/plain": [
       "<Figure size 432x288 with 2 Axes>"
      ]
     },
     "metadata": {
      "needs_background": "light"
     },
     "output_type": "display_data"
    }
   ],
   "source": [
    "conf_matrix = metrics.confusion_matrix(y_val,y_pred)\n",
    "sns.heatmap(conf_matrix, annot = True, fmt = \".3f\", square = True, cmap = plt.cm.Blues)\n",
    "plt.ylabel('Actual')\n",
    "plt.xlabel('Predicted')\n",
    "plt.title('Confusion matrix')\n",
    "plt.tight_layout()\n",
    "print(conf_matrix)"
   ]
  },
  {
   "cell_type": "markdown",
   "metadata": {},
   "source": [
    "### Naive Bayes"
   ]
  },
  {
   "cell_type": "code",
   "execution_count": 48,
   "metadata": {},
   "outputs": [
    {
     "data": {
      "text/plain": [
       "GaussianNB(priors=None, var_smoothing=1e-09)"
      ]
     },
     "execution_count": 48,
     "metadata": {},
     "output_type": "execute_result"
    }
   ],
   "source": [
    "classifier = GaussianNB()  \n",
    "classifier.fit(x_train_scaled,y_train)"
   ]
  },
  {
   "cell_type": "code",
   "execution_count": 49,
   "metadata": {},
   "outputs": [],
   "source": [
    "y_pred = classifier.predict(x_val_scaled)"
   ]
  },
  {
   "cell_type": "code",
   "execution_count": 50,
   "metadata": {},
   "outputs": [
    {
     "name": "stdout",
     "output_type": "stream",
     "text": [
      "[[410 146]\n",
      " [ 13 351]]\n"
     ]
    },
    {
     "data": {
      "image/png": "[encoded data removed]",
      "text/plain": [
       "<Figure size 432x288 with 2 Axes>"
      ]
     },
     "metadata": {
      "needs_background": "light"
     },
     "output_type": "display_data"
    }
   ],
   "source": [
    "conf_matrix = metrics.confusion_matrix(y_val,y_pred)\n",
    "sns.heatmap(conf_matrix, annot = True, fmt = \".3f\", square = True, cmap = plt.cm.Blues)\n",
    "plt.ylabel('Actual')\n",
    "plt.xlabel('Predicted')\n",
    "plt.title('Confusion matrix')\n",
    "plt.tight_layout()\n",
    "print(conf_matrix)"
   ]
  },
  {
   "cell_type": "code",
   "execution_count": 51,
   "metadata": {},
   "outputs": [
    {
     "name": "stdout",
     "output_type": "stream",
     "text": [
      "Accuracy =  0.8271739130434783 \n",
      "Error =  0.17282608695652169 \n",
      "Precision = [0.96926714 0.70623742] \n",
      "Recall =  [0.73741007 0.96428571] \n",
      "F1 Score =  [0.83758938 0.81533101]\n"
     ]
    }
   ],
   "source": [
    "accuracy = metrics.accuracy_score(y_val,y_pred)\n",
    "error = 1 - accuracy\n",
    "precision = metrics.precision_score(y_val, y_pred, average = None)\n",
    "recall = metrics.recall_score(y_val, y_pred, average = None)\n",
    "F1_score = metrics.f1_score(y_val, y_pred, average = None)\n",
    "print(\"Accuracy = \",accuracy, \"\\nError = \",error, \"\\nPrecision =\",precision,\"\\nRecall = \", recall,\"\\nF1 Score = \", F1_score)"
   ]
  },
  {
   "cell_type": "markdown",
   "metadata": {},
   "source": [
    "#### Selecting best set of attributes"
   ]
  },
  {
   "cell_type": "code",
   "execution_count": 52,
   "metadata": {},
   "outputs": [
    {
     "data": {
      "text/plain": [
       "GaussianNB(priors=None, var_smoothing=1e-09)"
      ]
     },
     "execution_count": 52,
     "metadata": {},
     "output_type": "execute_result"
    }
   ],
   "source": [
    "cols = [0,1,2,4,6,8,11,15,16,17,20,23,24,36,44,49,52,56]\n",
    "classifier = GaussianNB()  \n",
    "classifier.fit(x_train_scaled.iloc[:,cols],y_train)"
   ]
  },
  {
   "cell_type": "code",
   "execution_count": 53,
   "metadata": {},
   "outputs": [],
   "source": [
    "y_pred = classifier.predict(x_val_scaled.iloc[:,cols])"
   ]
  },
  {
   "cell_type": "code",
   "execution_count": 54,
   "metadata": {},
   "outputs": [
    {
     "name": "stdout",
     "output_type": "stream",
     "text": [
      "Accuracy =  0.8956521739130435 \n",
      "Error =  0.10434782608695647 \n",
      "Precision = [0.9020979  0.88505747] \n",
      "Recall =  [0.92805755 0.84615385] \n",
      "F1 Score =  [0.91489362 0.86516854]\n"
     ]
    }
   ],
   "source": [
    "accuracy = metrics.accuracy_score(y_val,y_pred)\n",
    "error = 1 - accuracy\n",
    "precision = metrics.precision_score(y_val, y_pred, average = None)\n",
    "recall = metrics.recall_score(y_val, y_pred, average = None)\n",
    "F1_score = metrics.f1_score(y_val, y_pred, average = None)\n",
    "print(\"Accuracy = \",accuracy, \"\\nError = \",error, \"\\nPrecision =\",precision,\"\\nRecall = \", recall,\"\\nF1 Score = \", F1_score)"
   ]
  },
  {
   "cell_type": "code",
   "execution_count": 55,
   "metadata": {},
   "outputs": [
    {
     "name": "stdout",
     "output_type": "stream",
     "text": [
      "[[516  40]\n",
      " [ 56 308]]\n"
     ]
    },
    {
     "data": {
      "image/png": "[encoded data removed]",
      "text/plain": [
       "<Figure size 432x288 with 2 Axes>"
      ]
     },
     "metadata": {
      "needs_background": "light"
     },
     "output_type": "display_data"
    }
   ],
   "source": [
    "conf_matrix = metrics.confusion_matrix(y_val,y_pred)\n",
    "sns.heatmap(conf_matrix, annot = True, fmt = \".3f\", square = True, cmap = plt.cm.Blues)\n",
    "plt.ylabel('Actual')\n",
    "plt.xlabel('Predicted')\n",
    "plt.title('Confusion matrix')\n",
    "plt.tight_layout()\n",
    "print(conf_matrix)"
   ]
  },
  {
   "cell_type": "markdown",
   "metadata": {},
   "source": [
    "### SVM"
   ]
  },
  {
   "cell_type": "code",
   "execution_count": 56,
   "metadata": {},
   "outputs": [
    {
     "data": {
      "text/plain": [
       "SVC(C=1.0, cache_size=200, class_weight=None, coef0=0.0,\n",
       "    decision_function_shape='ovr', degree=3, gamma='auto', kernel='rbf',\n",
       "    max_iter=-1, probability=False, random_state=None, shrinking=True,\n",
       "    tol=0.001, verbose=False)"
      ]
     },
     "execution_count": 56,
     "metadata": {},
     "output_type": "execute_result"
    }
   ],
   "source": [
    "classifier = SVC(kernel = 'rbf', gamma = 'auto')  \n",
    "classifier.fit(x_train_scaled,y_train)"
   ]
  },
  {
   "cell_type": "code",
   "execution_count": 57,
   "metadata": {},
   "outputs": [],
   "source": [
    "y_pred = classifier.predict(x_val_scaled)"
   ]
  },
  {
   "cell_type": "code",
   "execution_count": 58,
   "metadata": {},
   "outputs": [
    {
     "name": "stdout",
     "output_type": "stream",
     "text": [
      "[[532  24]\n",
      " [ 47 317]]\n"
     ]
    },
    {
     "data": {
      "image/png": "[encoded data removed]",
      "text/plain": [
       "<Figure size 432x288 with 2 Axes>"
      ]
     },
     "metadata": {
      "needs_background": "light"
     },
     "output_type": "display_data"
    }
   ],
   "source": [
    "conf_matrix = metrics.confusion_matrix(y_val,y_pred)\n",
    "sns.heatmap(conf_matrix, annot = True, fmt = \".2f\", square = True, cmap = plt.cm.Blues)\n",
    "plt.ylabel('Actual')\n",
    "plt.xlabel('Predicted')\n",
    "plt.title('Confusion matrix')\n",
    "plt.tight_layout()\n",
    "print(conf_matrix)"
   ]
  },
  {
   "cell_type": "code",
   "execution_count": 59,
   "metadata": {},
   "outputs": [
    {
     "name": "stdout",
     "output_type": "stream",
     "text": [
      "Accuracy =  0.9228260869565217 \n",
      "Error =  0.07717391304347831 \n",
      "Precision = [0.91882556 0.92961877] \n",
      "Recall =  [0.95683453 0.87087912] \n",
      "F1 Score =  [0.93744493 0.89929078]\n"
     ]
    }
   ],
   "source": [
    "accuracy = metrics.accuracy_score(y_val,y_pred)\n",
    "error = 1 - accuracy\n",
    "precision = metrics.precision_score(y_val, y_pred, average = None)\n",
    "recall = metrics.recall_score(y_val, y_pred, average = None)\n",
    "F1_score = metrics.f1_score(y_val, y_pred, average = None)\n",
    "print(\"Accuracy = \",accuracy, \"\\nError = \",error, \"\\nPrecision =\",precision,\"\\nRecall = \", recall,\"\\nF1 Score = \", F1_score)"
   ]
  },
  {
   "cell_type": "markdown",
   "metadata": {},
   "source": [
    "#### Selecting best set of attributes"
   ]
  },
  {
   "cell_type": "code",
   "execution_count": 60,
   "metadata": {},
   "outputs": [
    {
     "data": {
      "text/plain": [
       "SVC(C=1.0, cache_size=200, class_weight=None, coef0=0.0,\n",
       "    decision_function_shape='ovr', degree=3, gamma='auto', kernel='rbf',\n",
       "    max_iter=-1, probability=False, random_state=None, shrinking=True,\n",
       "    tol=0.001, verbose=False)"
      ]
     },
     "execution_count": 60,
     "metadata": {},
     "output_type": "execute_result"
    }
   ],
   "source": [
    "SVM_cols = [0,4,6,7,8,9,11,15,16,17,20,22,23,24,36,52,56]\n",
    "SVM_classifier = SVC(kernel = 'rbf', gamma = 'auto')  \n",
    "SVM_classifier.fit(x_train_scaled.iloc[:,SVM_cols],y_train)"
   ]
  },
  {
   "cell_type": "code",
   "execution_count": 61,
   "metadata": {},
   "outputs": [],
   "source": [
    "SVM_y_pred = SVM_classifier.predict(x_val_scaled.iloc[:,SVM_cols])"
   ]
  },
  {
   "cell_type": "code",
   "execution_count": 62,
   "metadata": {},
   "outputs": [
    {
     "name": "stdout",
     "output_type": "stream",
     "text": [
      "Accuracy =  0.925 \n",
      "Error =  0.07499999999999996 \n",
      "Precision = [0.92055268 0.93255132] \n",
      "Recall =  [0.95863309 0.87362637] \n",
      "F1 Score =  [0.93920705 0.90212766]\n"
     ]
    }
   ],
   "source": [
    "accuracy = metrics.accuracy_score(y_val,SVM_y_pred)\n",
    "error = 1 - accuracy\n",
    "precision = metrics.precision_score(y_val, SVM_y_pred, average = None)\n",
    "recall = metrics.recall_score(y_val, SVM_y_pred, average = None)\n",
    "F1_score = metrics.f1_score(y_val, SVM_y_pred, average = None)\n",
    "print(\"Accuracy = \",accuracy, \"\\nError = \",error, \"\\nPrecision =\",precision,\"\\nRecall = \", recall,\"\\nF1 Score = \", F1_score)"
   ]
  },
  {
   "cell_type": "code",
   "execution_count": 63,
   "metadata": {},
   "outputs": [
    {
     "name": "stdout",
     "output_type": "stream",
     "text": [
      "[[533  23]\n",
      " [ 46 318]]\n"
     ]
    },
    {
     "data": {
      "image/png": "[encoded data removed]",
      "text/plain": [
       "<Figure size 432x288 with 2 Axes>"
      ]
     },
     "metadata": {
      "needs_background": "light"
     },
     "output_type": "display_data"
    }
   ],
   "source": [
    "conf_matrix = metrics.confusion_matrix(y_val,SVM_y_pred)\n",
    "sns.heatmap(conf_matrix, annot = True, fmt = \".3f\", square = True, cmap = plt.cm.Blues)\n",
    "plt.ylabel('Actual')\n",
    "plt.xlabel('Predicted')\n",
    "plt.title('Confusion matrix')\n",
    "plt.tight_layout()\n",
    "print(conf_matrix)"
   ]
  },
  {
   "cell_type": "markdown",
   "metadata": {},
   "source": [
    "## Clustering"
   ]
  },
  {
   "cell_type": "code",
   "execution_count": 64,
   "metadata": {},
   "outputs": [],
   "source": [
    "#Splitting dataset for clustering\n",
    "data_x = data.iloc[:,:-1]\n",
    "#data_x.head()\n",
    "data_y = data['class']\n",
    "#data_y.head()"
   ]
  },
  {
   "cell_type": "code",
   "execution_count": 65,
   "metadata": {},
   "outputs": [],
   "source": [
    "#standardizing datasets for clustering\n",
    "scaler = StandardScaler()\n",
    "scaler.fit(data_x)\n",
    "data_x_scaled = scaler.transform(data_x)\n",
    "data_x_scaled = pd.DataFrame(data_x_scaled)"
   ]
  },
  {
   "cell_type": "markdown",
   "metadata": {},
   "source": [
    "### K Means"
   ]
  },
  {
   "cell_type": "code",
   "execution_count": 67,
   "metadata": {},
   "outputs": [
    {
     "name": "stdout",
     "output_type": "stream",
     "text": [
      "Clusters are :  [0 1]\n",
      "Number of clusters =  4601\n"
     ]
    }
   ],
   "source": [
    "clustering = KMeans(n_clusters = 2,init = 'random',n_init = 10, random_state = 0).fit(data_x_scaled)\n",
    "clusters = clustering.labels_\n",
    "print(\"Clusters are : \",np.unique(clusters))\n",
    "print(\"Number of clusters = \",len(clusters))"
   ]
  },
  {
   "cell_type": "code",
   "execution_count": 68,
   "metadata": {},
   "outputs": [
    {
     "name": "stdout",
     "output_type": "stream",
     "text": [
      "Adjusted Random Index = -0.00494969888751084 \n",
      "Silhouette Coefficient =  0.659630943933575\n"
     ]
    }
   ],
   "source": [
    "adjusted_rand_index = metrics.adjusted_rand_score(data_y,clusters)\n",
    "silhouette_coefficient = metrics.silhouette_score(data_x_scaled,clusters)\n",
    "print(\"Adjusted Random Index =\",adjusted_rand_index, \"\\nSilhouette Coefficient = \",silhouette_coefficient)"
   ]
  },
  {
   "cell_type": "code",
   "execution_count": 69,
   "metadata": {},
   "outputs": [
    {
     "name": "stdout",
     "output_type": "stream",
     "text": [
      "[[  34    0]\n",
      " [2754 1813]]\n"
     ]
    },
    {
     "data": {
      "image/png": "[encoded data removed]",
      "text/plain": [
       "<Figure size 432x288 with 2 Axes>"
      ]
     },
     "metadata": {
      "needs_background": "light"
     },
     "output_type": "display_data"
    }
   ],
   "source": [
    "cont_matrix = metrics.cluster.contingency_matrix(clusters, data_y)\n",
    "sns.heatmap(cont_matrix, annot = True, fmt = \".3f\", square = True, cmap = plt.cm.Blues)\n",
    "plt.ylabel('Actual')\n",
    "plt.xlabel('Predicted')\n",
    "plt.title('Contingency matrix')\n",
    "plt.tight_layout()\n",
    "print(cont_matrix)"
   ]
  },
  {
   "cell_type": "markdown",
   "metadata": {},
   "source": [
    "#### Trying with different sets of attributes"
   ]
  },
  {
   "cell_type": "code",
   "execution_count": 70,
   "metadata": {},
   "outputs": [
    {
     "name": "stdout",
     "output_type": "stream",
     "text": [
      "Clusters are :  [0 1]\n",
      "Number of clusters =  4601\n"
     ]
    }
   ],
   "source": [
    "#cols = [0,1,2,4,5,6,7,8,9,10,11,12,15,16,17,18,20,22,23,24,36,44,49,51,52,56]\n",
    "#cols = [0,1,2,4,5,6,7,8,9,10,11,12,15,16,17,20,22,23,24,36,44,49,51,52,56]\n",
    "#cols = [4,5,6,8,16,18,20,23,24,51,56]\n",
    "#cols = [0,1,2,4,6,8,11,15,16,17,20,23,24,36,44,49,52,56]\n",
    "Kmeans_cols = [4,6,7,8,9,15,20,22,23,24,36,52,56]\n",
    "\n",
    "\n",
    "clustering = KMeans(n_clusters = 2,init = 'random',n_init = 10, random_state = 0).fit(data_x_scaled.iloc[:,Kmeans_cols])\n",
    "clusters = clustering.labels_\n",
    "print(\"Clusters are : \",np.unique(clusters))\n",
    "print(\"Number of clusters = \",len(clusters))"
   ]
  },
  {
   "cell_type": "code",
   "execution_count": 71,
   "metadata": {},
   "outputs": [
    {
     "name": "stdout",
     "output_type": "stream",
     "text": [
      "Adjusted Random Index = 0.45958819954640473 \n",
      "Silhouette Coefficient =  0.3325948013999686\n"
     ]
    }
   ],
   "source": [
    "adjusted_rand_index = metrics.adjusted_rand_score(data_y,clusters)\n",
    "silhouette_coefficient = metrics.silhouette_score(data_x_scaled.iloc[:,Kmeans_cols],clusters)\n",
    "print(\"Adjusted Random Index =\",adjusted_rand_index, \"\\nSilhouette Coefficient = \",silhouette_coefficient)"
   ]
  },
  {
   "cell_type": "code",
   "execution_count": 72,
   "metadata": {},
   "outputs": [
    {
     "name": "stdout",
     "output_type": "stream",
     "text": [
      "[[2644  590]\n",
      " [ 144 1223]]\n"
     ]
    },
    {
     "data": {
      "image/png": "[encoded data removed]",
      "text/plain": [
       "<Figure size 432x288 with 2 Axes>"
      ]
     },
     "metadata": {
      "needs_background": "light"
     },
     "output_type": "display_data"
    }
   ],
   "source": [
    "cont_matrix = metrics.cluster.contingency_matrix(clusters, data_y)\n",
    "sns.heatmap(cont_matrix, annot = True, fmt = \".3f\", square = True, cmap = plt.cm.Blues)\n",
    "plt.ylabel('Actual')\n",
    "plt.xlabel('Predicted')\n",
    "plt.title('Contingency matrix')\n",
    "plt.tight_layout()\n",
    "print(cont_matrix)"
   ]
  },
  {
   "cell_type": "markdown",
   "metadata": {},
   "source": [
    "## Performance with Test dataset - Classification using SVM"
   ]
  },
  {
   "cell_type": "code",
   "execution_count": 73,
   "metadata": {},
   "outputs": [],
   "source": [
    "#Standardizaing the test dataset\n",
    "scaler = StandardScaler()\n",
    "scaler.fit(x_test)\n",
    "x_test_scaled = scaler.transform(x_test)\n",
    "x_test_scaled = pd.DataFrame(x_test_scaled)"
   ]
  },
  {
   "cell_type": "code",
   "execution_count": 74,
   "metadata": {},
   "outputs": [],
   "source": [
    "test_y_pred = SVM_classifier.predict(x_test_scaled.iloc[:,SVM_cols])"
   ]
  },
  {
   "cell_type": "code",
   "execution_count": 75,
   "metadata": {},
   "outputs": [
    {
     "name": "stdout",
     "output_type": "stream",
     "text": [
      "Accuracy =  0.9001085776330076 \n",
      "Error =  0.09989142236699244 \n",
      "Precision = [0.88448276 0.92668622] \n",
      "Recall =  [0.9535316  0.82506527] \n",
      "F1 Score =  [0.9177102  0.87292818]\n"
     ]
    }
   ],
   "source": [
    "accuracy = metrics.accuracy_score(y_test,test_y_pred)\n",
    "error = 1 - accuracy\n",
    "precision = metrics.precision_score(y_test, test_y_pred, average = None)\n",
    "recall = metrics.recall_score(y_test, test_y_pred, average = None)\n",
    "F1_score = metrics.f1_score(y_test, test_y_pred, average = None)\n",
    "print(\"Accuracy = \",accuracy, \"\\nError = \",error, \"\\nPrecision =\",precision,\"\\nRecall = \", recall,\"\\nF1 Score = \", F1_score)"
   ]
  },
  {
   "cell_type": "code",
   "execution_count": null,
   "metadata": {},
   "outputs": [],
   "source": [
    "conf_matrix = metrics.confusion_matrix(y_test,test_y_pred)\n",
    "sns.heatmap(conf_matrix, annot = True, fmt = \".3f\", square = True, cmap = plt.cm.Blues)\n",
    "plt.ylabel('Actual')\n",
    "plt.xlabel('Predicted')\n",
    "plt.title('Confusion matrix')\n",
    "plt.tight_layout()\n",
    "print(conf_matrix)"
   ]
  },
  {
   "cell_type": "code",
   "execution_count": null,
   "metadata": {},
   "outputs": [],
   "source": []
  },
  {
   "cell_type": "code",
   "execution_count": null,
   "metadata": {},
   "outputs": [],
   "source": []
  },
  {
   "cell_type": "code",
   "execution_count": null,
   "metadata": {},
   "outputs": [],
   "source": []
  },
  {
   "cell_type": "code",
   "execution_count": null,
   "metadata": {},
   "outputs": [],
   "source": []
  },
  {
   "cell_type": "code",
   "execution_count": null,
   "metadata": {},
   "outputs": [],
   "source": []
  },
  {
   "cell_type": "code",
   "execution_count": null,
   "metadata": {},
   "outputs": [],
   "source": []
  },
  {
   "cell_type": "code",
   "execution_count": null,
   "metadata": {},
   "outputs": [],
   "source": []
  },
  {
   "cell_type": "code",
   "execution_count": null,
   "metadata": {},
   "outputs": [],
   "source": []
  }
 ],
 "metadata": {
  "kernelspec": {
   "display_name": "Python 3",
   "language": "python",
   "name": "python3"
  },
  "language_info": {
   "codemirror_mode": {
    "name": "ipython",
    "version": 3
   },
   "file_extension": ".py",
   "mimetype": "text/x-python",
   "name": "python",
   "nbconvert_exporter": "python",
   "pygments_lexer": "ipython3",
   "version": "3.6.9"
  }
 },
 "nbformat": 4,
 "nbformat_minor": 2
}
